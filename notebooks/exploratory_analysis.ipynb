{
 "cells": [
  {
   "cell_type": "markdown",
   "metadata": {},
   "source": [
    "### Exploratory Data Analysis of Ridesharing Dataset\n",
    "\n",
    "#### Overview:\n",
    "This Jupyter notebook contains code and analysis for exploring the New York Ridesharing Dataset. The dataset comprises Ride Sharing Data, including time, longitute, latitude, and other relevant details.\n",
    "\n",
    "#### Dataset Used:\n",
    "- Dataset Name: New York City Ridesharing Dataset\n",
    "- Source: https://www.kaggle.com/datasets/fivethirtyeight/uber-pickups-in-new-york-city\n",
    "\n",
    "#### Objective:\n",
    "The primary goal of this notebook is to perform exploratory data analysis (EDA) on the Uber Ridesharing Dataset. This includes:\n",
    "- Data cleaning and preprocessing\n",
    "- Merging data for training datasets\n",
    "- Extracting insights and patterns from the data\n",
    "- Rudementary visualizations for quick analysis\n",
    "\n",
    "### Author:\n",
    "- Name: Aden Letchworth\n",
    "- Date: 12/17/2023\n",
    "\n",
    "\n"
   ]
  },
  {
   "cell_type": "code",
   "execution_count": 32,
   "metadata": {},
   "outputs": [],
   "source": [
    "# Import Libraries\n",
    "\n",
    "import pandas as pd\n",
    "import plotly.express as px\n",
    "\n",
    "import sys\n",
    "\n",
    "# Custom Helper Functions\n",
    "\n",
    "sys.path.append('../src')\n",
    "import data_utils as ds "
   ]
  },
  {
   "cell_type": "markdown",
   "metadata": {},
   "source": [
    "### Basic Data Exploration\n",
    "\n",
    "**Goals** \n",
    "1. Load CSV\n",
    "2. Understand Data (Cols, Dtypes, Format, Etc)\n",
    "3. Verify Integrity\n",
    "4. Find any issues with formatting then move to cleaning and visualization"
   ]
  },
  {
   "cell_type": "code",
   "execution_count": 33,
   "metadata": {},
   "outputs": [],
   "source": [
    "# Load Dataset (1)\n",
    "\n",
    "df = pd.read_csv('../data/raw/uber-raw-data-sep14.csv')"
   ]
  },
  {
   "cell_type": "code",
   "execution_count": 34,
   "metadata": {},
   "outputs": [
    {
     "data": {
      "text/plain": [
       "<bound method NDFrame.head of                   Date/Time      Lat      Lon    Base\n",
       "0          9/1/2014 0:01:00  40.2201 -74.0021  B02512\n",
       "1          9/1/2014 0:01:00  40.7500 -74.0027  B02512\n",
       "2          9/1/2014 0:03:00  40.7559 -73.9864  B02512\n",
       "3          9/1/2014 0:06:00  40.7450 -73.9889  B02512\n",
       "4          9/1/2014 0:11:00  40.8145 -73.9444  B02512\n",
       "...                     ...      ...      ...     ...\n",
       "1028131  9/30/2014 22:57:00  40.7668 -73.9845  B02764\n",
       "1028132  9/30/2014 22:57:00  40.6911 -74.1773  B02764\n",
       "1028133  9/30/2014 22:58:00  40.8519 -73.9319  B02764\n",
       "1028134  9/30/2014 22:58:00  40.7081 -74.0066  B02764\n",
       "1028135  9/30/2014 22:58:00  40.7140 -73.9496  B02764\n",
       "\n",
       "[1028136 rows x 4 columns]>"
      ]
     },
     "execution_count": 34,
     "metadata": {},
     "output_type": "execute_result"
    }
   ],
   "source": [
    "# Understand formatting of dataset (2)\n",
    "\n",
    "df.head"
   ]
  },
  {
   "cell_type": "code",
   "execution_count": 35,
   "metadata": {},
   "outputs": [
    {
     "name": "stdout",
     "output_type": "stream",
     "text": [
      "Index(['Date/Time', 'Lat', 'Lon', 'Base'], dtype='object')\n",
      "Date/Time     object\n",
      "Lat          float64\n",
      "Lon          float64\n",
      "Base          object\n",
      "dtype: object\n"
     ]
    }
   ],
   "source": [
    "# Understand data types of dataset (2)\n",
    "\n",
    "print(df.columns)\n",
    "print(df.dtypes)"
   ]
  },
  {
   "cell_type": "code",
   "execution_count": 36,
   "metadata": {},
   "outputs": [
    {
     "name": "stdout",
     "output_type": "stream",
     "text": [
      "Null Values: False, NA Values: False\n"
     ]
    }
   ],
   "source": [
    "# Verify Integrity of Dataset (3)\n",
    "\n",
    "print(f'Null Values: {df.isnull().any().any()}, NA Values: {df.isna().any().any()}')"
   ]
  },
  {
   "cell_type": "code",
   "execution_count": 37,
   "metadata": {},
   "outputs": [
    {
     "data": {
      "text/plain": [
       "<bound method IndexOpsMixin.value_counts of 0            9/1/2014 0:01:00\n",
       "1            9/1/2014 0:01:00\n",
       "2            9/1/2014 0:03:00\n",
       "3            9/1/2014 0:06:00\n",
       "4            9/1/2014 0:11:00\n",
       "                  ...        \n",
       "1028131    9/30/2014 22:57:00\n",
       "1028132    9/30/2014 22:57:00\n",
       "1028133    9/30/2014 22:58:00\n",
       "1028134    9/30/2014 22:58:00\n",
       "1028135    9/30/2014 22:58:00\n",
       "Name: Date/Time, Length: 1028136, dtype: object>"
      ]
     },
     "execution_count": 37,
     "metadata": {},
     "output_type": "execute_result"
    }
   ],
   "source": [
    "# Check Date formatting, aggregation shows any potential problems with visualization (4)\n",
    "\n",
    "df['Date/Time'].value_counts"
   ]
  },
  {
   "cell_type": "markdown",
   "metadata": {},
   "source": [
    "We can see the aggregations we can make for visualizations. \n",
    "- Aggregate by time of day\n",
    "- Aggregate by day of week\n",
    "- Aggregate by month of year\n",
    "\n",
    "-----"
   ]
  },
  {
   "cell_type": "markdown",
   "metadata": {},
   "source": [
    "### Data Cleaning & with Basic Visualizations\n",
    "\n",
    "**Goals**\n",
    "1. Apply filter functiosn for custom columns\n",
    "3. Make visualizations to aid in verifying filters worked and understanding data further\n",
    "4. Merge uber ridesharing datasets (7 total)"
   ]
  },
  {
   "cell_type": "markdown",
   "metadata": {},
   "source": [
    "#### Create Regex function for Isolating Date \n",
    "\n",
    "Notice: Taking Substrings wouldn't work correctly since the date is formatted '9/30/2014...' in some cases so we would have to take it in accordance to string length, however the suffix can be different sizes such as '0:01:00' and '22:57:00' making regex the simplest way of extracting the date."
   ]
  },
  {
   "cell_type": "code",
   "execution_count": 38,
   "metadata": {},
   "outputs": [],
   "source": [
    "# Apply date and time functions to dataset (2)\n",
    "\n",
    "df['Date/Time'] = pd.to_datetime(df['Date/Time'])\n",
    "\n",
    "df['Date'] = df['Date/Time'].dt.date\n",
    "\n",
    "df['Time'] = df['Date/Time'].dt.time\n"
   ]
  },
  {
   "cell_type": "code",
   "execution_count": 39,
   "metadata": {},
   "outputs": [
    {
     "data": {
      "application/vnd.plotly.v1+json": {
       "config": {
        "plotlyServerURL": "https://plot.ly"
       },
       "data": [
        {
         "alignmentgroup": "True",
         "hovertemplate": "Date=%{x}<br>Frequency Count=%{y}<extra></extra>",
         "legendgroup": "",
         "marker": {
          "color": "#636efa",
          "pattern": {
           "shape": ""
          }
         },
         "name": "",
         "offsetgroup": "",
         "orientation": "v",
         "showlegend": false,
         "textposition": "auto",
         "type": "bar",
         "x": [
          "2014-09-01",
          "2014-09-02",
          "2014-09-03",
          "2014-09-04",
          "2014-09-05",
          "2014-09-06",
          "2014-09-07",
          "2014-09-08",
          "2014-09-09",
          "2014-09-10",
          "2014-09-11",
          "2014-09-12",
          "2014-09-13",
          "2014-09-14",
          "2014-09-15",
          "2014-09-16",
          "2014-09-17",
          "2014-09-18",
          "2014-09-19",
          "2014-09-20",
          "2014-09-21",
          "2014-09-22",
          "2014-09-23",
          "2014-09-24",
          "2014-09-25",
          "2014-09-26",
          "2014-09-27",
          "2014-09-28",
          "2014-09-29",
          "2014-09-30"
         ],
         "xaxis": "x",
         "y": [
          19961,
          28831,
          32631,
          38360,
          42319,
          40520,
          30134,
          30360,
          34560,
          35910,
          36439,
          39540,
          43205,
          28122,
          29454,
          36092,
          35531,
          40274,
          41017,
          38864,
          28620,
          28312,
          30316,
          31301,
          38203,
          37504,
          39468,
          29656,
          29201,
          33431
         ],
         "yaxis": "y"
        }
       ],
       "layout": {
        "barmode": "relative",
        "legend": {
         "tracegroupgap": 0
        },
        "margin": {
         "t": 60
        },
        "template": {
         "data": {
          "bar": [
           {
            "error_x": {
             "color": "#2a3f5f"
            },
            "error_y": {
             "color": "#2a3f5f"
            },
            "marker": {
             "line": {
              "color": "#E5ECF6",
              "width": 0.5
             },
             "pattern": {
              "fillmode": "overlay",
              "size": 10,
              "solidity": 0.2
             }
            },
            "type": "bar"
           }
          ],
          "barpolar": [
           {
            "marker": {
             "line": {
              "color": "#E5ECF6",
              "width": 0.5
             },
             "pattern": {
              "fillmode": "overlay",
              "size": 10,
              "solidity": 0.2
             }
            },
            "type": "barpolar"
           }
          ],
          "carpet": [
           {
            "aaxis": {
             "endlinecolor": "#2a3f5f",
             "gridcolor": "white",
             "linecolor": "white",
             "minorgridcolor": "white",
             "startlinecolor": "#2a3f5f"
            },
            "baxis": {
             "endlinecolor": "#2a3f5f",
             "gridcolor": "white",
             "linecolor": "white",
             "minorgridcolor": "white",
             "startlinecolor": "#2a3f5f"
            },
            "type": "carpet"
           }
          ],
          "choropleth": [
           {
            "colorbar": {
             "outlinewidth": 0,
             "ticks": ""
            },
            "type": "choropleth"
           }
          ],
          "contour": [
           {
            "colorbar": {
             "outlinewidth": 0,
             "ticks": ""
            },
            "colorscale": [
             [
              0,
              "#0d0887"
             ],
             [
              0.1111111111111111,
              "#46039f"
             ],
             [
              0.2222222222222222,
              "#7201a8"
             ],
             [
              0.3333333333333333,
              "#9c179e"
             ],
             [
              0.4444444444444444,
              "#bd3786"
             ],
             [
              0.5555555555555556,
              "#d8576b"
             ],
             [
              0.6666666666666666,
              "#ed7953"
             ],
             [
              0.7777777777777778,
              "#fb9f3a"
             ],
             [
              0.8888888888888888,
              "#fdca26"
             ],
             [
              1,
              "#f0f921"
             ]
            ],
            "type": "contour"
           }
          ],
          "contourcarpet": [
           {
            "colorbar": {
             "outlinewidth": 0,
             "ticks": ""
            },
            "type": "contourcarpet"
           }
          ],
          "heatmap": [
           {
            "colorbar": {
             "outlinewidth": 0,
             "ticks": ""
            },
            "colorscale": [
             [
              0,
              "#0d0887"
             ],
             [
              0.1111111111111111,
              "#46039f"
             ],
             [
              0.2222222222222222,
              "#7201a8"
             ],
             [
              0.3333333333333333,
              "#9c179e"
             ],
             [
              0.4444444444444444,
              "#bd3786"
             ],
             [
              0.5555555555555556,
              "#d8576b"
             ],
             [
              0.6666666666666666,
              "#ed7953"
             ],
             [
              0.7777777777777778,
              "#fb9f3a"
             ],
             [
              0.8888888888888888,
              "#fdca26"
             ],
             [
              1,
              "#f0f921"
             ]
            ],
            "type": "heatmap"
           }
          ],
          "heatmapgl": [
           {
            "colorbar": {
             "outlinewidth": 0,
             "ticks": ""
            },
            "colorscale": [
             [
              0,
              "#0d0887"
             ],
             [
              0.1111111111111111,
              "#46039f"
             ],
             [
              0.2222222222222222,
              "#7201a8"
             ],
             [
              0.3333333333333333,
              "#9c179e"
             ],
             [
              0.4444444444444444,
              "#bd3786"
             ],
             [
              0.5555555555555556,
              "#d8576b"
             ],
             [
              0.6666666666666666,
              "#ed7953"
             ],
             [
              0.7777777777777778,
              "#fb9f3a"
             ],
             [
              0.8888888888888888,
              "#fdca26"
             ],
             [
              1,
              "#f0f921"
             ]
            ],
            "type": "heatmapgl"
           }
          ],
          "histogram": [
           {
            "marker": {
             "pattern": {
              "fillmode": "overlay",
              "size": 10,
              "solidity": 0.2
             }
            },
            "type": "histogram"
           }
          ],
          "histogram2d": [
           {
            "colorbar": {
             "outlinewidth": 0,
             "ticks": ""
            },
            "colorscale": [
             [
              0,
              "#0d0887"
             ],
             [
              0.1111111111111111,
              "#46039f"
             ],
             [
              0.2222222222222222,
              "#7201a8"
             ],
             [
              0.3333333333333333,
              "#9c179e"
             ],
             [
              0.4444444444444444,
              "#bd3786"
             ],
             [
              0.5555555555555556,
              "#d8576b"
             ],
             [
              0.6666666666666666,
              "#ed7953"
             ],
             [
              0.7777777777777778,
              "#fb9f3a"
             ],
             [
              0.8888888888888888,
              "#fdca26"
             ],
             [
              1,
              "#f0f921"
             ]
            ],
            "type": "histogram2d"
           }
          ],
          "histogram2dcontour": [
           {
            "colorbar": {
             "outlinewidth": 0,
             "ticks": ""
            },
            "colorscale": [
             [
              0,
              "#0d0887"
             ],
             [
              0.1111111111111111,
              "#46039f"
             ],
             [
              0.2222222222222222,
              "#7201a8"
             ],
             [
              0.3333333333333333,
              "#9c179e"
             ],
             [
              0.4444444444444444,
              "#bd3786"
             ],
             [
              0.5555555555555556,
              "#d8576b"
             ],
             [
              0.6666666666666666,
              "#ed7953"
             ],
             [
              0.7777777777777778,
              "#fb9f3a"
             ],
             [
              0.8888888888888888,
              "#fdca26"
             ],
             [
              1,
              "#f0f921"
             ]
            ],
            "type": "histogram2dcontour"
           }
          ],
          "mesh3d": [
           {
            "colorbar": {
             "outlinewidth": 0,
             "ticks": ""
            },
            "type": "mesh3d"
           }
          ],
          "parcoords": [
           {
            "line": {
             "colorbar": {
              "outlinewidth": 0,
              "ticks": ""
             }
            },
            "type": "parcoords"
           }
          ],
          "pie": [
           {
            "automargin": true,
            "type": "pie"
           }
          ],
          "scatter": [
           {
            "fillpattern": {
             "fillmode": "overlay",
             "size": 10,
             "solidity": 0.2
            },
            "type": "scatter"
           }
          ],
          "scatter3d": [
           {
            "line": {
             "colorbar": {
              "outlinewidth": 0,
              "ticks": ""
             }
            },
            "marker": {
             "colorbar": {
              "outlinewidth": 0,
              "ticks": ""
             }
            },
            "type": "scatter3d"
           }
          ],
          "scattercarpet": [
           {
            "marker": {
             "colorbar": {
              "outlinewidth": 0,
              "ticks": ""
             }
            },
            "type": "scattercarpet"
           }
          ],
          "scattergeo": [
           {
            "marker": {
             "colorbar": {
              "outlinewidth": 0,
              "ticks": ""
             }
            },
            "type": "scattergeo"
           }
          ],
          "scattergl": [
           {
            "marker": {
             "colorbar": {
              "outlinewidth": 0,
              "ticks": ""
             }
            },
            "type": "scattergl"
           }
          ],
          "scattermapbox": [
           {
            "marker": {
             "colorbar": {
              "outlinewidth": 0,
              "ticks": ""
             }
            },
            "type": "scattermapbox"
           }
          ],
          "scatterpolar": [
           {
            "marker": {
             "colorbar": {
              "outlinewidth": 0,
              "ticks": ""
             }
            },
            "type": "scatterpolar"
           }
          ],
          "scatterpolargl": [
           {
            "marker": {
             "colorbar": {
              "outlinewidth": 0,
              "ticks": ""
             }
            },
            "type": "scatterpolargl"
           }
          ],
          "scatterternary": [
           {
            "marker": {
             "colorbar": {
              "outlinewidth": 0,
              "ticks": ""
             }
            },
            "type": "scatterternary"
           }
          ],
          "surface": [
           {
            "colorbar": {
             "outlinewidth": 0,
             "ticks": ""
            },
            "colorscale": [
             [
              0,
              "#0d0887"
             ],
             [
              0.1111111111111111,
              "#46039f"
             ],
             [
              0.2222222222222222,
              "#7201a8"
             ],
             [
              0.3333333333333333,
              "#9c179e"
             ],
             [
              0.4444444444444444,
              "#bd3786"
             ],
             [
              0.5555555555555556,
              "#d8576b"
             ],
             [
              0.6666666666666666,
              "#ed7953"
             ],
             [
              0.7777777777777778,
              "#fb9f3a"
             ],
             [
              0.8888888888888888,
              "#fdca26"
             ],
             [
              1,
              "#f0f921"
             ]
            ],
            "type": "surface"
           }
          ],
          "table": [
           {
            "cells": {
             "fill": {
              "color": "#EBF0F8"
             },
             "line": {
              "color": "white"
             }
            },
            "header": {
             "fill": {
              "color": "#C8D4E3"
             },
             "line": {
              "color": "white"
             }
            },
            "type": "table"
           }
          ]
         },
         "layout": {
          "annotationdefaults": {
           "arrowcolor": "#2a3f5f",
           "arrowhead": 0,
           "arrowwidth": 1
          },
          "autotypenumbers": "strict",
          "coloraxis": {
           "colorbar": {
            "outlinewidth": 0,
            "ticks": ""
           }
          },
          "colorscale": {
           "diverging": [
            [
             0,
             "#8e0152"
            ],
            [
             0.1,
             "#c51b7d"
            ],
            [
             0.2,
             "#de77ae"
            ],
            [
             0.3,
             "#f1b6da"
            ],
            [
             0.4,
             "#fde0ef"
            ],
            [
             0.5,
             "#f7f7f7"
            ],
            [
             0.6,
             "#e6f5d0"
            ],
            [
             0.7,
             "#b8e186"
            ],
            [
             0.8,
             "#7fbc41"
            ],
            [
             0.9,
             "#4d9221"
            ],
            [
             1,
             "#276419"
            ]
           ],
           "sequential": [
            [
             0,
             "#0d0887"
            ],
            [
             0.1111111111111111,
             "#46039f"
            ],
            [
             0.2222222222222222,
             "#7201a8"
            ],
            [
             0.3333333333333333,
             "#9c179e"
            ],
            [
             0.4444444444444444,
             "#bd3786"
            ],
            [
             0.5555555555555556,
             "#d8576b"
            ],
            [
             0.6666666666666666,
             "#ed7953"
            ],
            [
             0.7777777777777778,
             "#fb9f3a"
            ],
            [
             0.8888888888888888,
             "#fdca26"
            ],
            [
             1,
             "#f0f921"
            ]
           ],
           "sequentialminus": [
            [
             0,
             "#0d0887"
            ],
            [
             0.1111111111111111,
             "#46039f"
            ],
            [
             0.2222222222222222,
             "#7201a8"
            ],
            [
             0.3333333333333333,
             "#9c179e"
            ],
            [
             0.4444444444444444,
             "#bd3786"
            ],
            [
             0.5555555555555556,
             "#d8576b"
            ],
            [
             0.6666666666666666,
             "#ed7953"
            ],
            [
             0.7777777777777778,
             "#fb9f3a"
            ],
            [
             0.8888888888888888,
             "#fdca26"
            ],
            [
             1,
             "#f0f921"
            ]
           ]
          },
          "colorway": [
           "#636efa",
           "#EF553B",
           "#00cc96",
           "#ab63fa",
           "#FFA15A",
           "#19d3f3",
           "#FF6692",
           "#B6E880",
           "#FF97FF",
           "#FECB52"
          ],
          "font": {
           "color": "#2a3f5f"
          },
          "geo": {
           "bgcolor": "white",
           "lakecolor": "white",
           "landcolor": "#E5ECF6",
           "showlakes": true,
           "showland": true,
           "subunitcolor": "white"
          },
          "hoverlabel": {
           "align": "left"
          },
          "hovermode": "closest",
          "mapbox": {
           "style": "light"
          },
          "paper_bgcolor": "white",
          "plot_bgcolor": "#E5ECF6",
          "polar": {
           "angularaxis": {
            "gridcolor": "white",
            "linecolor": "white",
            "ticks": ""
           },
           "bgcolor": "#E5ECF6",
           "radialaxis": {
            "gridcolor": "white",
            "linecolor": "white",
            "ticks": ""
           }
          },
          "scene": {
           "xaxis": {
            "backgroundcolor": "#E5ECF6",
            "gridcolor": "white",
            "gridwidth": 2,
            "linecolor": "white",
            "showbackground": true,
            "ticks": "",
            "zerolinecolor": "white"
           },
           "yaxis": {
            "backgroundcolor": "#E5ECF6",
            "gridcolor": "white",
            "gridwidth": 2,
            "linecolor": "white",
            "showbackground": true,
            "ticks": "",
            "zerolinecolor": "white"
           },
           "zaxis": {
            "backgroundcolor": "#E5ECF6",
            "gridcolor": "white",
            "gridwidth": 2,
            "linecolor": "white",
            "showbackground": true,
            "ticks": "",
            "zerolinecolor": "white"
           }
          },
          "shapedefaults": {
           "line": {
            "color": "#2a3f5f"
           }
          },
          "ternary": {
           "aaxis": {
            "gridcolor": "white",
            "linecolor": "white",
            "ticks": ""
           },
           "baxis": {
            "gridcolor": "white",
            "linecolor": "white",
            "ticks": ""
           },
           "bgcolor": "#E5ECF6",
           "caxis": {
            "gridcolor": "white",
            "linecolor": "white",
            "ticks": ""
           }
          },
          "title": {
           "x": 0.05
          },
          "xaxis": {
           "automargin": true,
           "gridcolor": "white",
           "linecolor": "white",
           "ticks": "",
           "title": {
            "standoff": 15
           },
           "zerolinecolor": "white",
           "zerolinewidth": 2
          },
          "yaxis": {
           "automargin": true,
           "gridcolor": "white",
           "linecolor": "white",
           "ticks": "",
           "title": {
            "standoff": 15
           },
           "zerolinecolor": "white",
           "zerolinewidth": 2
          }
         }
        },
        "title": {
         "text": "Date Frequency Distribution (Sorted by Date)"
        },
        "xaxis": {
         "anchor": "y",
         "domain": [
          0,
          1
         ],
         "title": {
          "text": "Date"
         },
         "type": "category"
        },
        "yaxis": {
         "anchor": "x",
         "domain": [
          0,
          1
         ],
         "title": {
          "text": "Frequency Count"
         }
        }
       }
      }
     },
     "metadata": {},
     "output_type": "display_data"
    }
   ],
   "source": [
    "# Perform frequency count of dates\n",
    "date_counts = df['Date'].value_counts().reset_index()\n",
    "date_counts.columns = ['Date', 'Frequency']\n",
    "\n",
    "# Sort the date_counts DataFrame by 'Date' column in ascending order\n",
    "date_counts = date_counts.sort_values('Date')\n",
    "\n",
    "# Create Plotly bar chart for date frequency distribution\n",
    "fig = px.bar(date_counts, x='Date', y='Frequency', labels={'Date': 'Date', 'Frequency': 'Frequency Count'})\n",
    "fig.update_xaxes(type='category')  \n",
    "fig.update_layout(title='Date Frequency Distribution (Sorted by Date)')\n",
    "fig.show()"
   ]
  },
  {
   "cell_type": "code",
   "execution_count": 40,
   "metadata": {},
   "outputs": [
    {
     "data": {
      "application/vnd.plotly.v1+json": {
       "config": {
        "plotlyServerURL": "https://plot.ly"
       },
       "data": [
        {
         "alignmentgroup": "True",
         "hovertemplate": "Time=%{x}<br>Frequency Count=%{y}<extra></extra>",
         "legendgroup": "",
         "marker": {
          "color": "#636efa",
          "pattern": {
           "shape": ""
          }
         },
         "name": "",
         "offsetgroup": "",
         "orientation": "v",
         "showlegend": false,
         "textposition": "auto",
         "type": "bar",
         "x": [
          "00:00:00",
          "00:01:00",
          "00:02:00",
          "00:03:00",
          "00:04:00",
          "00:05:00",
          "00:06:00",
          "00:07:00",
          "00:08:00",
          "00:09:00",
          "00:10:00",
          "00:11:00",
          "00:12:00",
          "00:13:00",
          "00:14:00",
          "00:15:00",
          "00:16:00",
          "00:17:00",
          "00:18:00",
          "00:19:00",
          "00:20:00",
          "00:21:00",
          "00:22:00",
          "00:23:00",
          "00:24:00",
          "00:25:00",
          "00:26:00",
          "00:27:00",
          "00:28:00",
          "00:29:00",
          "00:30:00",
          "00:31:00",
          "00:32:00",
          "00:33:00",
          "00:34:00",
          "00:35:00",
          "00:36:00",
          "00:37:00",
          "00:38:00",
          "00:39:00",
          "00:40:00",
          "00:41:00",
          "00:42:00",
          "00:43:00",
          "00:44:00",
          "00:45:00",
          "00:46:00",
          "00:47:00",
          "00:48:00",
          "00:49:00",
          "00:50:00",
          "00:51:00",
          "00:52:00",
          "00:53:00",
          "00:54:00",
          "00:55:00",
          "00:56:00",
          "00:57:00",
          "00:58:00",
          "00:59:00",
          "01:00:00",
          "01:01:00",
          "01:02:00",
          "01:03:00",
          "01:04:00",
          "01:05:00",
          "01:06:00",
          "01:07:00",
          "01:08:00",
          "01:09:00",
          "01:10:00",
          "01:11:00",
          "01:12:00",
          "01:13:00",
          "01:14:00",
          "01:15:00",
          "01:16:00",
          "01:17:00",
          "01:18:00",
          "01:19:00",
          "01:20:00",
          "01:21:00",
          "01:22:00",
          "01:23:00",
          "01:24:00",
          "01:25:00",
          "01:26:00",
          "01:27:00",
          "01:28:00",
          "01:29:00",
          "01:30:00",
          "01:31:00",
          "01:32:00",
          "01:33:00",
          "01:34:00",
          "01:35:00",
          "01:36:00",
          "01:37:00",
          "01:38:00",
          "01:39:00",
          "01:40:00",
          "01:41:00",
          "01:42:00",
          "01:43:00",
          "01:44:00",
          "01:45:00",
          "01:46:00",
          "01:47:00",
          "01:48:00",
          "01:49:00",
          "01:50:00",
          "01:51:00",
          "01:52:00",
          "01:53:00",
          "01:54:00",
          "01:55:00",
          "01:56:00",
          "01:57:00",
          "01:58:00",
          "01:59:00",
          "02:00:00",
          "02:01:00",
          "02:02:00",
          "02:03:00",
          "02:04:00",
          "02:05:00",
          "02:06:00",
          "02:07:00",
          "02:08:00",
          "02:09:00",
          "02:10:00",
          "02:11:00",
          "02:12:00",
          "02:13:00",
          "02:14:00",
          "02:15:00",
          "02:16:00",
          "02:17:00",
          "02:18:00",
          "02:19:00",
          "02:20:00",
          "02:21:00",
          "02:22:00",
          "02:23:00",
          "02:24:00",
          "02:25:00",
          "02:26:00",
          "02:27:00",
          "02:28:00",
          "02:29:00",
          "02:30:00",
          "02:31:00",
          "02:32:00",
          "02:33:00",
          "02:34:00",
          "02:35:00",
          "02:36:00",
          "02:37:00",
          "02:38:00",
          "02:39:00",
          "02:40:00",
          "02:41:00",
          "02:42:00",
          "02:43:00",
          "02:44:00",
          "02:45:00",
          "02:46:00",
          "02:47:00",
          "02:48:00",
          "02:49:00",
          "02:50:00",
          "02:51:00",
          "02:52:00",
          "02:53:00",
          "02:54:00",
          "02:55:00",
          "02:56:00",
          "02:57:00",
          "02:58:00",
          "02:59:00",
          "03:00:00",
          "03:01:00",
          "03:02:00",
          "03:03:00",
          "03:04:00",
          "03:05:00",
          "03:06:00",
          "03:07:00",
          "03:08:00",
          "03:09:00",
          "03:10:00",
          "03:11:00",
          "03:12:00",
          "03:13:00",
          "03:14:00",
          "03:15:00",
          "03:16:00",
          "03:17:00",
          "03:18:00",
          "03:19:00",
          "03:20:00",
          "03:21:00",
          "03:22:00",
          "03:23:00",
          "03:24:00",
          "03:25:00",
          "03:26:00",
          "03:27:00",
          "03:28:00",
          "03:29:00",
          "03:30:00",
          "03:31:00",
          "03:32:00",
          "03:33:00",
          "03:34:00",
          "03:35:00",
          "03:36:00",
          "03:37:00",
          "03:38:00",
          "03:39:00",
          "03:40:00",
          "03:41:00",
          "03:42:00",
          "03:43:00",
          "03:44:00",
          "03:45:00",
          "03:46:00",
          "03:47:00",
          "03:48:00",
          "03:49:00",
          "03:50:00",
          "03:51:00",
          "03:52:00",
          "03:53:00",
          "03:54:00",
          "03:55:00",
          "03:56:00",
          "03:57:00",
          "03:58:00",
          "03:59:00",
          "04:00:00",
          "04:01:00",
          "04:02:00",
          "04:03:00",
          "04:04:00",
          "04:05:00",
          "04:06:00",
          "04:07:00",
          "04:08:00",
          "04:09:00",
          "04:10:00",
          "04:11:00",
          "04:12:00",
          "04:13:00",
          "04:14:00",
          "04:15:00",
          "04:16:00",
          "04:17:00",
          "04:18:00",
          "04:19:00",
          "04:20:00",
          "04:21:00",
          "04:22:00",
          "04:23:00",
          "04:24:00",
          "04:25:00",
          "04:26:00",
          "04:27:00",
          "04:28:00",
          "04:29:00",
          "04:30:00",
          "04:31:00",
          "04:32:00",
          "04:33:00",
          "04:34:00",
          "04:35:00",
          "04:36:00",
          "04:37:00",
          "04:38:00",
          "04:39:00",
          "04:40:00",
          "04:41:00",
          "04:42:00",
          "04:43:00",
          "04:44:00",
          "04:45:00",
          "04:46:00",
          "04:47:00",
          "04:48:00",
          "04:49:00",
          "04:50:00",
          "04:51:00",
          "04:52:00",
          "04:53:00",
          "04:54:00",
          "04:55:00",
          "04:56:00",
          "04:57:00",
          "04:58:00",
          "04:59:00",
          "05:00:00",
          "05:01:00",
          "05:02:00",
          "05:03:00",
          "05:04:00",
          "05:05:00",
          "05:06:00",
          "05:07:00",
          "05:08:00",
          "05:09:00",
          "05:10:00",
          "05:11:00",
          "05:12:00",
          "05:13:00",
          "05:14:00",
          "05:15:00",
          "05:16:00",
          "05:17:00",
          "05:18:00",
          "05:19:00",
          "05:20:00",
          "05:21:00",
          "05:22:00",
          "05:23:00",
          "05:24:00",
          "05:25:00",
          "05:26:00",
          "05:27:00",
          "05:28:00",
          "05:29:00",
          "05:30:00",
          "05:31:00",
          "05:32:00",
          "05:33:00",
          "05:34:00",
          "05:35:00",
          "05:36:00",
          "05:37:00",
          "05:38:00",
          "05:39:00",
          "05:40:00",
          "05:41:00",
          "05:42:00",
          "05:43:00",
          "05:44:00",
          "05:45:00",
          "05:46:00",
          "05:47:00",
          "05:48:00",
          "05:49:00",
          "05:50:00",
          "05:51:00",
          "05:52:00",
          "05:53:00",
          "05:54:00",
          "05:55:00",
          "05:56:00",
          "05:57:00",
          "05:58:00",
          "05:59:00",
          "06:00:00",
          "06:01:00",
          "06:02:00",
          "06:03:00",
          "06:04:00",
          "06:05:00",
          "06:06:00",
          "06:07:00",
          "06:08:00",
          "06:09:00",
          "06:10:00",
          "06:11:00",
          "06:12:00",
          "06:13:00",
          "06:14:00",
          "06:15:00",
          "06:16:00",
          "06:17:00",
          "06:18:00",
          "06:19:00",
          "06:20:00",
          "06:21:00",
          "06:22:00",
          "06:23:00",
          "06:24:00",
          "06:25:00",
          "06:26:00",
          "06:27:00",
          "06:28:00",
          "06:29:00",
          "06:30:00",
          "06:31:00",
          "06:32:00",
          "06:33:00",
          "06:34:00",
          "06:35:00",
          "06:36:00",
          "06:37:00",
          "06:38:00",
          "06:39:00",
          "06:40:00",
          "06:41:00",
          "06:42:00",
          "06:43:00",
          "06:44:00",
          "06:45:00",
          "06:46:00",
          "06:47:00",
          "06:48:00",
          "06:49:00",
          "06:50:00",
          "06:51:00",
          "06:52:00",
          "06:53:00",
          "06:54:00",
          "06:55:00",
          "06:56:00",
          "06:57:00",
          "06:58:00",
          "06:59:00",
          "07:00:00",
          "07:01:00",
          "07:02:00",
          "07:03:00",
          "07:04:00",
          "07:05:00",
          "07:06:00",
          "07:07:00",
          "07:08:00",
          "07:09:00",
          "07:10:00",
          "07:11:00",
          "07:12:00",
          "07:13:00",
          "07:14:00",
          "07:15:00",
          "07:16:00",
          "07:17:00",
          "07:18:00",
          "07:19:00",
          "07:20:00",
          "07:21:00",
          "07:22:00",
          "07:23:00",
          "07:24:00",
          "07:25:00",
          "07:26:00",
          "07:27:00",
          "07:28:00",
          "07:29:00",
          "07:30:00",
          "07:31:00",
          "07:32:00",
          "07:33:00",
          "07:34:00",
          "07:35:00",
          "07:36:00",
          "07:37:00",
          "07:38:00",
          "07:39:00",
          "07:40:00",
          "07:41:00",
          "07:42:00",
          "07:43:00",
          "07:44:00",
          "07:45:00",
          "07:46:00",
          "07:47:00",
          "07:48:00",
          "07:49:00",
          "07:50:00",
          "07:51:00",
          "07:52:00",
          "07:53:00",
          "07:54:00",
          "07:55:00",
          "07:56:00",
          "07:57:00",
          "07:58:00",
          "07:59:00",
          "08:00:00",
          "08:01:00",
          "08:02:00",
          "08:03:00",
          "08:04:00",
          "08:05:00",
          "08:06:00",
          "08:07:00",
          "08:08:00",
          "08:09:00",
          "08:10:00",
          "08:11:00",
          "08:12:00",
          "08:13:00",
          "08:14:00",
          "08:15:00",
          "08:16:00",
          "08:17:00",
          "08:18:00",
          "08:19:00",
          "08:20:00",
          "08:21:00",
          "08:22:00",
          "08:23:00",
          "08:24:00",
          "08:25:00",
          "08:26:00",
          "08:27:00",
          "08:28:00",
          "08:29:00",
          "08:30:00",
          "08:31:00",
          "08:32:00",
          "08:33:00",
          "08:34:00",
          "08:35:00",
          "08:36:00",
          "08:37:00",
          "08:38:00",
          "08:39:00",
          "08:40:00",
          "08:41:00",
          "08:42:00",
          "08:43:00",
          "08:44:00",
          "08:45:00",
          "08:46:00",
          "08:47:00",
          "08:48:00",
          "08:49:00",
          "08:50:00",
          "08:51:00",
          "08:52:00",
          "08:53:00",
          "08:54:00",
          "08:55:00",
          "08:56:00",
          "08:57:00",
          "08:58:00",
          "08:59:00",
          "09:00:00",
          "09:01:00",
          "09:02:00",
          "09:03:00",
          "09:04:00",
          "09:05:00",
          "09:06:00",
          "09:07:00",
          "09:08:00",
          "09:09:00",
          "09:10:00",
          "09:11:00",
          "09:12:00",
          "09:13:00",
          "09:14:00",
          "09:15:00",
          "09:16:00",
          "09:17:00",
          "09:18:00",
          "09:19:00",
          "09:20:00",
          "09:21:00",
          "09:22:00",
          "09:23:00",
          "09:24:00",
          "09:25:00",
          "09:26:00",
          "09:27:00",
          "09:28:00",
          "09:29:00",
          "09:30:00",
          "09:31:00",
          "09:32:00",
          "09:33:00",
          "09:34:00",
          "09:35:00",
          "09:36:00",
          "09:37:00",
          "09:38:00",
          "09:39:00",
          "09:40:00",
          "09:41:00",
          "09:42:00",
          "09:43:00",
          "09:44:00",
          "09:45:00",
          "09:46:00",
          "09:47:00",
          "09:48:00",
          "09:49:00",
          "09:50:00",
          "09:51:00",
          "09:52:00",
          "09:53:00",
          "09:54:00",
          "09:55:00",
          "09:56:00",
          "09:57:00",
          "09:58:00",
          "09:59:00",
          "10:00:00",
          "10:01:00",
          "10:02:00",
          "10:03:00",
          "10:04:00",
          "10:05:00",
          "10:06:00",
          "10:07:00",
          "10:08:00",
          "10:09:00",
          "10:10:00",
          "10:11:00",
          "10:12:00",
          "10:13:00",
          "10:14:00",
          "10:15:00",
          "10:16:00",
          "10:17:00",
          "10:18:00",
          "10:19:00",
          "10:20:00",
          "10:21:00",
          "10:22:00",
          "10:23:00",
          "10:24:00",
          "10:25:00",
          "10:26:00",
          "10:27:00",
          "10:28:00",
          "10:29:00",
          "10:30:00",
          "10:31:00",
          "10:32:00",
          "10:33:00",
          "10:34:00",
          "10:35:00",
          "10:36:00",
          "10:37:00",
          "10:38:00",
          "10:39:00",
          "10:40:00",
          "10:41:00",
          "10:42:00",
          "10:43:00",
          "10:44:00",
          "10:45:00",
          "10:46:00",
          "10:47:00",
          "10:48:00",
          "10:49:00",
          "10:50:00",
          "10:51:00",
          "10:52:00",
          "10:53:00",
          "10:54:00",
          "10:55:00",
          "10:56:00",
          "10:57:00",
          "10:58:00",
          "10:59:00",
          "11:00:00",
          "11:01:00",
          "11:02:00",
          "11:03:00",
          "11:04:00",
          "11:05:00",
          "11:06:00",
          "11:07:00",
          "11:08:00",
          "11:09:00",
          "11:10:00",
          "11:11:00",
          "11:12:00",
          "11:13:00",
          "11:14:00",
          "11:15:00",
          "11:16:00",
          "11:17:00",
          "11:18:00",
          "11:19:00",
          "11:20:00",
          "11:21:00",
          "11:22:00",
          "11:23:00",
          "11:24:00",
          "11:25:00",
          "11:26:00",
          "11:27:00",
          "11:28:00",
          "11:29:00",
          "11:30:00",
          "11:31:00",
          "11:32:00",
          "11:33:00",
          "11:34:00",
          "11:35:00",
          "11:36:00",
          "11:37:00",
          "11:38:00",
          "11:39:00",
          "11:40:00",
          "11:41:00",
          "11:42:00",
          "11:43:00",
          "11:44:00",
          "11:45:00",
          "11:46:00",
          "11:47:00",
          "11:48:00",
          "11:49:00",
          "11:50:00",
          "11:51:00",
          "11:52:00",
          "11:53:00",
          "11:54:00",
          "11:55:00",
          "11:56:00",
          "11:57:00",
          "11:58:00",
          "11:59:00",
          "12:00:00",
          "12:01:00",
          "12:02:00",
          "12:03:00",
          "12:04:00",
          "12:05:00",
          "12:06:00",
          "12:07:00",
          "12:08:00",
          "12:09:00",
          "12:10:00",
          "12:11:00",
          "12:12:00",
          "12:13:00",
          "12:14:00",
          "12:15:00",
          "12:16:00",
          "12:17:00",
          "12:18:00",
          "12:19:00",
          "12:20:00",
          "12:21:00",
          "12:22:00",
          "12:23:00",
          "12:24:00",
          "12:25:00",
          "12:26:00",
          "12:27:00",
          "12:28:00",
          "12:29:00",
          "12:30:00",
          "12:31:00",
          "12:32:00",
          "12:33:00",
          "12:34:00",
          "12:35:00",
          "12:36:00",
          "12:37:00",
          "12:38:00",
          "12:39:00",
          "12:40:00",
          "12:41:00",
          "12:42:00",
          "12:43:00",
          "12:44:00",
          "12:45:00",
          "12:46:00",
          "12:47:00",
          "12:48:00",
          "12:49:00",
          "12:50:00",
          "12:51:00",
          "12:52:00",
          "12:53:00",
          "12:54:00",
          "12:55:00",
          "12:56:00",
          "12:57:00",
          "12:58:00",
          "12:59:00",
          "13:00:00",
          "13:01:00",
          "13:02:00",
          "13:03:00",
          "13:04:00",
          "13:05:00",
          "13:06:00",
          "13:07:00",
          "13:08:00",
          "13:09:00",
          "13:10:00",
          "13:11:00",
          "13:12:00",
          "13:13:00",
          "13:14:00",
          "13:15:00",
          "13:16:00",
          "13:17:00",
          "13:18:00",
          "13:19:00",
          "13:20:00",
          "13:21:00",
          "13:22:00",
          "13:23:00",
          "13:24:00",
          "13:25:00",
          "13:26:00",
          "13:27:00",
          "13:28:00",
          "13:29:00",
          "13:30:00",
          "13:31:00",
          "13:32:00",
          "13:33:00",
          "13:34:00",
          "13:35:00",
          "13:36:00",
          "13:37:00",
          "13:38:00",
          "13:39:00",
          "13:40:00",
          "13:41:00",
          "13:42:00",
          "13:43:00",
          "13:44:00",
          "13:45:00",
          "13:46:00",
          "13:47:00",
          "13:48:00",
          "13:49:00",
          "13:50:00",
          "13:51:00",
          "13:52:00",
          "13:53:00",
          "13:54:00",
          "13:55:00",
          "13:56:00",
          "13:57:00",
          "13:58:00",
          "13:59:00",
          "14:00:00",
          "14:01:00",
          "14:02:00",
          "14:03:00",
          "14:04:00",
          "14:05:00",
          "14:06:00",
          "14:07:00",
          "14:08:00",
          "14:09:00",
          "14:10:00",
          "14:11:00",
          "14:12:00",
          "14:13:00",
          "14:14:00",
          "14:15:00",
          "14:16:00",
          "14:17:00",
          "14:18:00",
          "14:19:00",
          "14:20:00",
          "14:21:00",
          "14:22:00",
          "14:23:00",
          "14:24:00",
          "14:25:00",
          "14:26:00",
          "14:27:00",
          "14:28:00",
          "14:29:00",
          "14:30:00",
          "14:31:00",
          "14:32:00",
          "14:33:00",
          "14:34:00",
          "14:35:00",
          "14:36:00",
          "14:37:00",
          "14:38:00",
          "14:39:00",
          "14:40:00",
          "14:41:00",
          "14:42:00",
          "14:43:00",
          "14:44:00",
          "14:45:00",
          "14:46:00",
          "14:47:00",
          "14:48:00",
          "14:49:00",
          "14:50:00",
          "14:51:00",
          "14:52:00",
          "14:53:00",
          "14:54:00",
          "14:55:00",
          "14:56:00",
          "14:57:00",
          "14:58:00",
          "14:59:00",
          "15:00:00",
          "15:01:00",
          "15:02:00",
          "15:03:00",
          "15:04:00",
          "15:05:00",
          "15:06:00",
          "15:07:00",
          "15:08:00",
          "15:09:00",
          "15:10:00",
          "15:11:00",
          "15:12:00",
          "15:13:00",
          "15:14:00",
          "15:15:00",
          "15:16:00",
          "15:17:00",
          "15:18:00",
          "15:19:00",
          "15:20:00",
          "15:21:00",
          "15:22:00",
          "15:23:00",
          "15:24:00",
          "15:25:00",
          "15:26:00",
          "15:27:00",
          "15:28:00",
          "15:29:00",
          "15:30:00",
          "15:31:00",
          "15:32:00",
          "15:33:00",
          "15:34:00",
          "15:35:00",
          "15:36:00",
          "15:37:00",
          "15:38:00",
          "15:39:00",
          "15:40:00",
          "15:41:00",
          "15:42:00",
          "15:43:00",
          "15:44:00",
          "15:45:00",
          "15:46:00",
          "15:47:00",
          "15:48:00",
          "15:49:00",
          "15:50:00",
          "15:51:00",
          "15:52:00",
          "15:53:00",
          "15:54:00",
          "15:55:00",
          "15:56:00",
          "15:57:00",
          "15:58:00",
          "15:59:00",
          "16:00:00",
          "16:01:00",
          "16:02:00",
          "16:03:00",
          "16:04:00",
          "16:05:00",
          "16:06:00",
          "16:07:00",
          "16:08:00",
          "16:09:00",
          "16:10:00",
          "16:11:00",
          "16:12:00",
          "16:13:00",
          "16:14:00",
          "16:15:00",
          "16:16:00",
          "16:17:00",
          "16:18:00",
          "16:19:00",
          "16:20:00",
          "16:21:00",
          "16:22:00",
          "16:23:00",
          "16:24:00",
          "16:25:00",
          "16:26:00",
          "16:27:00",
          "16:28:00",
          "16:29:00",
          "16:30:00",
          "16:31:00",
          "16:32:00",
          "16:33:00",
          "16:34:00",
          "16:35:00",
          "16:36:00",
          "16:37:00",
          "16:38:00",
          "16:39:00",
          "16:40:00",
          "16:41:00",
          "16:42:00",
          "16:43:00",
          "16:44:00",
          "16:45:00",
          "16:46:00",
          "16:47:00",
          "16:48:00",
          "16:49:00",
          "16:50:00",
          "16:51:00",
          "16:52:00",
          "16:53:00",
          "16:54:00",
          "16:55:00",
          "16:56:00",
          "16:57:00",
          "16:58:00",
          "16:59:00",
          "17:00:00",
          "17:01:00",
          "17:02:00",
          "17:03:00",
          "17:04:00",
          "17:05:00",
          "17:06:00",
          "17:07:00",
          "17:08:00",
          "17:09:00",
          "17:10:00",
          "17:11:00",
          "17:12:00",
          "17:13:00",
          "17:14:00",
          "17:15:00",
          "17:16:00",
          "17:17:00",
          "17:18:00",
          "17:19:00",
          "17:20:00",
          "17:21:00",
          "17:22:00",
          "17:23:00",
          "17:24:00",
          "17:25:00",
          "17:26:00",
          "17:27:00",
          "17:28:00",
          "17:29:00",
          "17:30:00",
          "17:31:00",
          "17:32:00",
          "17:33:00",
          "17:34:00",
          "17:35:00",
          "17:36:00",
          "17:37:00",
          "17:38:00",
          "17:39:00",
          "17:40:00",
          "17:41:00",
          "17:42:00",
          "17:43:00",
          "17:44:00",
          "17:45:00",
          "17:46:00",
          "17:47:00",
          "17:48:00",
          "17:49:00",
          "17:50:00",
          "17:51:00",
          "17:52:00",
          "17:53:00",
          "17:54:00",
          "17:55:00",
          "17:56:00",
          "17:57:00",
          "17:58:00",
          "17:59:00",
          "18:00:00",
          "18:01:00",
          "18:02:00",
          "18:03:00",
          "18:04:00",
          "18:05:00",
          "18:06:00",
          "18:07:00",
          "18:08:00",
          "18:09:00",
          "18:10:00",
          "18:11:00",
          "18:12:00",
          "18:13:00",
          "18:14:00",
          "18:15:00",
          "18:16:00",
          "18:17:00",
          "18:18:00",
          "18:19:00",
          "18:20:00",
          "18:21:00",
          "18:22:00",
          "18:23:00",
          "18:24:00",
          "18:25:00",
          "18:26:00",
          "18:27:00",
          "18:28:00",
          "18:29:00",
          "18:30:00",
          "18:31:00",
          "18:32:00",
          "18:33:00",
          "18:34:00",
          "18:35:00",
          "18:36:00",
          "18:37:00",
          "18:38:00",
          "18:39:00",
          "18:40:00",
          "18:41:00",
          "18:42:00",
          "18:43:00",
          "18:44:00",
          "18:45:00",
          "18:46:00",
          "18:47:00",
          "18:48:00",
          "18:49:00",
          "18:50:00",
          "18:51:00",
          "18:52:00",
          "18:53:00",
          "18:54:00",
          "18:55:00",
          "18:56:00",
          "18:57:00",
          "18:58:00",
          "18:59:00",
          "19:00:00",
          "19:01:00",
          "19:02:00",
          "19:03:00",
          "19:04:00",
          "19:05:00",
          "19:06:00",
          "19:07:00",
          "19:08:00",
          "19:09:00",
          "19:10:00",
          "19:11:00",
          "19:12:00",
          "19:13:00",
          "19:14:00",
          "19:15:00",
          "19:16:00",
          "19:17:00",
          "19:18:00",
          "19:19:00",
          "19:20:00",
          "19:21:00",
          "19:22:00",
          "19:23:00",
          "19:24:00",
          "19:25:00",
          "19:26:00",
          "19:27:00",
          "19:28:00",
          "19:29:00",
          "19:30:00",
          "19:31:00",
          "19:32:00",
          "19:33:00",
          "19:34:00",
          "19:35:00",
          "19:36:00",
          "19:37:00",
          "19:38:00",
          "19:39:00",
          "19:40:00",
          "19:41:00",
          "19:42:00",
          "19:43:00",
          "19:44:00",
          "19:45:00",
          "19:46:00",
          "19:47:00",
          "19:48:00",
          "19:49:00",
          "19:50:00",
          "19:51:00",
          "19:52:00",
          "19:53:00",
          "19:54:00",
          "19:55:00",
          "19:56:00",
          "19:57:00",
          "19:58:00",
          "19:59:00",
          "20:00:00",
          "20:01:00",
          "20:02:00",
          "20:03:00",
          "20:04:00",
          "20:05:00",
          "20:06:00",
          "20:07:00",
          "20:08:00",
          "20:09:00",
          "20:10:00",
          "20:11:00",
          "20:12:00",
          "20:13:00",
          "20:14:00",
          "20:15:00",
          "20:16:00",
          "20:17:00",
          "20:18:00",
          "20:19:00",
          "20:20:00",
          "20:21:00",
          "20:22:00",
          "20:23:00",
          "20:24:00",
          "20:25:00",
          "20:26:00",
          "20:27:00",
          "20:28:00",
          "20:29:00",
          "20:30:00",
          "20:31:00",
          "20:32:00",
          "20:33:00",
          "20:34:00",
          "20:35:00",
          "20:36:00",
          "20:37:00",
          "20:38:00",
          "20:39:00",
          "20:40:00",
          "20:41:00",
          "20:42:00",
          "20:43:00",
          "20:44:00",
          "20:45:00",
          "20:46:00",
          "20:47:00",
          "20:48:00",
          "20:49:00",
          "20:50:00",
          "20:51:00",
          "20:52:00",
          "20:53:00",
          "20:54:00",
          "20:55:00",
          "20:56:00",
          "20:57:00",
          "20:58:00",
          "20:59:00",
          "21:00:00",
          "21:01:00",
          "21:02:00",
          "21:03:00",
          "21:04:00",
          "21:05:00",
          "21:06:00",
          "21:07:00",
          "21:08:00",
          "21:09:00",
          "21:10:00",
          "21:11:00",
          "21:12:00",
          "21:13:00",
          "21:14:00",
          "21:15:00",
          "21:16:00",
          "21:17:00",
          "21:18:00",
          "21:19:00",
          "21:20:00",
          "21:21:00",
          "21:22:00",
          "21:23:00",
          "21:24:00",
          "21:25:00",
          "21:26:00",
          "21:27:00",
          "21:28:00",
          "21:29:00",
          "21:30:00",
          "21:31:00",
          "21:32:00",
          "21:33:00",
          "21:34:00",
          "21:35:00",
          "21:36:00",
          "21:37:00",
          "21:38:00",
          "21:39:00",
          "21:40:00",
          "21:41:00",
          "21:42:00",
          "21:43:00",
          "21:44:00",
          "21:45:00",
          "21:46:00",
          "21:47:00",
          "21:48:00",
          "21:49:00",
          "21:50:00",
          "21:51:00",
          "21:52:00",
          "21:53:00",
          "21:54:00",
          "21:55:00",
          "21:56:00",
          "21:57:00",
          "21:58:00",
          "21:59:00",
          "22:00:00",
          "22:01:00",
          "22:02:00",
          "22:03:00",
          "22:04:00",
          "22:05:00",
          "22:06:00",
          "22:07:00",
          "22:08:00",
          "22:09:00",
          "22:10:00",
          "22:11:00",
          "22:12:00",
          "22:13:00",
          "22:14:00",
          "22:15:00",
          "22:16:00",
          "22:17:00",
          "22:18:00",
          "22:19:00",
          "22:20:00",
          "22:21:00",
          "22:22:00",
          "22:23:00",
          "22:24:00",
          "22:25:00",
          "22:26:00",
          "22:27:00",
          "22:28:00",
          "22:29:00",
          "22:30:00",
          "22:31:00",
          "22:32:00",
          "22:33:00",
          "22:34:00",
          "22:35:00",
          "22:36:00",
          "22:37:00",
          "22:38:00",
          "22:39:00",
          "22:40:00",
          "22:41:00",
          "22:42:00",
          "22:43:00",
          "22:44:00",
          "22:45:00",
          "22:46:00",
          "22:47:00",
          "22:48:00",
          "22:49:00",
          "22:50:00",
          "22:51:00",
          "22:52:00",
          "22:53:00",
          "22:54:00",
          "22:55:00",
          "22:56:00",
          "22:57:00",
          "22:58:00",
          "22:59:00",
          "23:00:00",
          "23:01:00",
          "23:02:00",
          "23:03:00",
          "23:04:00",
          "23:05:00",
          "23:06:00",
          "23:07:00",
          "23:08:00",
          "23:09:00",
          "23:10:00",
          "23:11:00",
          "23:12:00",
          "23:13:00",
          "23:14:00",
          "23:15:00",
          "23:16:00",
          "23:17:00",
          "23:18:00",
          "23:19:00",
          "23:20:00",
          "23:21:00",
          "23:22:00",
          "23:23:00",
          "23:24:00",
          "23:25:00",
          "23:26:00",
          "23:27:00",
          "23:28:00",
          "23:29:00",
          "23:30:00",
          "23:31:00",
          "23:32:00",
          "23:33:00",
          "23:34:00",
          "23:35:00",
          "23:36:00",
          "23:37:00",
          "23:38:00",
          "23:39:00",
          "23:40:00",
          "23:41:00",
          "23:42:00",
          "23:43:00",
          "23:44:00",
          "23:45:00",
          "23:46:00",
          "23:47:00",
          "23:48:00",
          "23:49:00",
          "23:50:00",
          "23:51:00",
          "23:52:00",
          "23:53:00",
          "23:54:00",
          "23:55:00",
          "23:56:00",
          "23:57:00",
          "23:58:00",
          "23:59:00"
         ],
         "xaxis": "x",
         "y": [
          490,
          485,
          467,
          481,
          467,
          443,
          471,
          487,
          458,
          479,
          490,
          433,
          472,
          472,
          449,
          469,
          476,
          459,
          430,
          413,
          398,
          414,
          413,
          389,
          408,
          369,
          410,
          383,
          409,
          423,
          438,
          419,
          395,
          378,
          331,
          369,
          363,
          384,
          401,
          364,
          373,
          362,
          356,
          364,
          360,
          349,
          337,
          331,
          353,
          356,
          351,
          364,
          362,
          342,
          342,
          333,
          360,
          330,
          305,
          354,
          320,
          349,
          325,
          337,
          324,
          325,
          327,
          318,
          311,
          307,
          295,
          279,
          295,
          253,
          262,
          278,
          295,
          304,
          278,
          325,
          289,
          300,
          279,
          290,
          271,
          280,
          317,
          302,
          261,
          289,
          271,
          287,
          248,
          258,
          269,
          247,
          273,
          237,
          251,
          232,
          237,
          218,
          236,
          212,
          235,
          247,
          221,
          222,
          225,
          229,
          231,
          236,
          232,
          229,
          214,
          202,
          230,
          227,
          226,
          240,
          210,
          229,
          239,
          208,
          219,
          238,
          212,
          215,
          182,
          200,
          229,
          192,
          180,
          195,
          170,
          184,
          202,
          169,
          163,
          191,
          175,
          189,
          176,
          179,
          180,
          175,
          169,
          185,
          178,
          150,
          183,
          175,
          169,
          170,
          160,
          144,
          171,
          185,
          145,
          153,
          150,
          163,
          166,
          147,
          182,
          158,
          172,
          149,
          166,
          173,
          183,
          167,
          162,
          150,
          150,
          184,
          161,
          160,
          165,
          156,
          163,
          180,
          183,
          170,
          171,
          169,
          205,
          163,
          181,
          172,
          184,
          182,
          156,
          170,
          160,
          180,
          173,
          186,
          174,
          171,
          195,
          207,
          175,
          184,
          163,
          187,
          189,
          174,
          175,
          170,
          191,
          191,
          187,
          164,
          178,
          184,
          160,
          175,
          181,
          169,
          180,
          173,
          176,
          182,
          172,
          193,
          178,
          179,
          186,
          174,
          217,
          193,
          175,
          206,
          193,
          183,
          195,
          186,
          194,
          162,
          179,
          186,
          186,
          192,
          194,
          206,
          192,
          179,
          184,
          169,
          203,
          181,
          194,
          218,
          196,
          214,
          229,
          141,
          190,
          210,
          213,
          224,
          196,
          193,
          196,
          233,
          217,
          203,
          201,
          180,
          223,
          199,
          208,
          252,
          227,
          212,
          224,
          189,
          192,
          223,
          226,
          217,
          210,
          232,
          240,
          211,
          227,
          228,
          218,
          247,
          211,
          240,
          237,
          229,
          234,
          242,
          242,
          256,
          251,
          229,
          239,
          234,
          254,
          280,
          273,
          307,
          273,
          281,
          269,
          266,
          287,
          265,
          284,
          238,
          316,
          307,
          310,
          331,
          354,
          276,
          304,
          305,
          348,
          304,
          368,
          347,
          347,
          354,
          365,
          370,
          377,
          334,
          301,
          397,
          364,
          373,
          392,
          373,
          365,
          366,
          378,
          388,
          373,
          381,
          351,
          386,
          336,
          352,
          343,
          362,
          357,
          349,
          393,
          377,
          390,
          425,
          389,
          437,
          397,
          400,
          408,
          482,
          449,
          437,
          400,
          468,
          445,
          498,
          479,
          457,
          460,
          526,
          516,
          525,
          537,
          532,
          517,
          527,
          556,
          542,
          540,
          563,
          555,
          568,
          571,
          554,
          545,
          576,
          531,
          563,
          563,
          584,
          512,
          586,
          606,
          577,
          574,
          588,
          576,
          573,
          619,
          591,
          622,
          605,
          608,
          613,
          620,
          621,
          616,
          584,
          627,
          606,
          634,
          613,
          606,
          584,
          581,
          631,
          606,
          654,
          652,
          676,
          644,
          657,
          682,
          722,
          646,
          665,
          703,
          724,
          693,
          710,
          703,
          733,
          747,
          748,
          749,
          703,
          708,
          750,
          786,
          675,
          756,
          785,
          749,
          774,
          695,
          727,
          780,
          683,
          798,
          685,
          738,
          721,
          753,
          770,
          677,
          747,
          736,
          721,
          756,
          696,
          726,
          733,
          722,
          762,
          735,
          706,
          701,
          704,
          711,
          738,
          737,
          705,
          711,
          741,
          702,
          746,
          741,
          770,
          780,
          726,
          720,
          741,
          758,
          749,
          770,
          815,
          800,
          774,
          832,
          777,
          801,
          789,
          765,
          836,
          788,
          791,
          722,
          734,
          802,
          781,
          762,
          762,
          752,
          803,
          756,
          731,
          797,
          743,
          820,
          757,
          705,
          787,
          764,
          748,
          747,
          732,
          736,
          728,
          776,
          734,
          711,
          725,
          748,
          677,
          722,
          686,
          695,
          651,
          706,
          682,
          696,
          651,
          669,
          630,
          619,
          668,
          673,
          677,
          650,
          682,
          649,
          691,
          677,
          669,
          669,
          658,
          652,
          650,
          687,
          663,
          674,
          650,
          678,
          630,
          618,
          659,
          638,
          656,
          668,
          652,
          642,
          664,
          651,
          632,
          611,
          653,
          651,
          669,
          651,
          643,
          627,
          672,
          655,
          698,
          601,
          675,
          701,
          638,
          620,
          569,
          634,
          687,
          636,
          631,
          599,
          633,
          605,
          635,
          614,
          634,
          595,
          645,
          580,
          565,
          611,
          610,
          578,
          607,
          573,
          607,
          579,
          621,
          610,
          573,
          640,
          648,
          645,
          587,
          675,
          583,
          638,
          664,
          640,
          622,
          609,
          586,
          576,
          630,
          634,
          632,
          555,
          614,
          588,
          643,
          680,
          654,
          648,
          585,
          644,
          647,
          620,
          662,
          654,
          665,
          653,
          647,
          695,
          646,
          663,
          611,
          647,
          690,
          596,
          616,
          614,
          607,
          595,
          606,
          609,
          598,
          626,
          614,
          629,
          684,
          642,
          632,
          619,
          664,
          657,
          607,
          650,
          676,
          621,
          643,
          666,
          663,
          674,
          643,
          635,
          724,
          683,
          646,
          680,
          721,
          674,
          626,
          575,
          650,
          632,
          619,
          658,
          613,
          627,
          637,
          645,
          631,
          662,
          607,
          673,
          640,
          671,
          690,
          622,
          651,
          677,
          639,
          625,
          668,
          644,
          652,
          640,
          668,
          655,
          609,
          603,
          641,
          652,
          672,
          654,
          644,
          595,
          610,
          684,
          661,
          642,
          596,
          626,
          672,
          617,
          677,
          663,
          624,
          628,
          640,
          648,
          614,
          690,
          699,
          644,
          667,
          616,
          682,
          672,
          619,
          610,
          612,
          629,
          629,
          664,
          601,
          634,
          635,
          673,
          648,
          618,
          659,
          676,
          658,
          685,
          651,
          646,
          700,
          631,
          633,
          663,
          710,
          666,
          689,
          687,
          692,
          704,
          622,
          640,
          675,
          648,
          634,
          668,
          635,
          636,
          634,
          633,
          661,
          649,
          682,
          625,
          678,
          636,
          734,
          733,
          699,
          701,
          694,
          718,
          708,
          742,
          759,
          756,
          744,
          726,
          726,
          764,
          729,
          757,
          795,
          735,
          722,
          736,
          723,
          741,
          730,
          747,
          682,
          743,
          728,
          736,
          773,
          751,
          755,
          757,
          754,
          718,
          709,
          694,
          748,
          775,
          752,
          737,
          761,
          759,
          796,
          793,
          769,
          788,
          770,
          778,
          762,
          773,
          785,
          818,
          748,
          760,
          787,
          821,
          753,
          762,
          773,
          781,
          808,
          796,
          809,
          847,
          819,
          826,
          848,
          836,
          892,
          856,
          866,
          887,
          797,
          852,
          883,
          836,
          832,
          864,
          911,
          812,
          882,
          860,
          873,
          890,
          827,
          873,
          944,
          897,
          868,
          847,
          850,
          892,
          872,
          809,
          861,
          866,
          895,
          910,
          903,
          825,
          819,
          942,
          916,
          875,
          881,
          929,
          947,
          933,
          990,
          896,
          896,
          892,
          892,
          881,
          857,
          970,
          925,
          941,
          958,
          902,
          888,
          972,
          899,
          907,
          945,
          924,
          951,
          929,
          1062,
          946,
          1011,
          1055,
          941,
          1006,
          1025,
          1004,
          968,
          956,
          959,
          994,
          981,
          1002,
          976,
          1015,
          986,
          988,
          1036,
          981,
          1037,
          1000,
          1007,
          1030,
          1029,
          1045,
          964,
          1026,
          1041,
          982,
          1016,
          1103,
          1022,
          1110,
          1008,
          1070,
          1042,
          1078,
          1040,
          1001,
          1048,
          1032,
          1037,
          1086,
          1037,
          1113,
          1083,
          1103,
          1141,
          1133,
          1091,
          1133,
          1112,
          1091,
          1120,
          1115,
          1154,
          1083,
          1123,
          1108,
          1100,
          1150,
          1071,
          1123,
          1023,
          1098,
          1152,
          1129,
          1106,
          1123,
          1044,
          1114,
          1117,
          1080,
          1134,
          1082,
          1096,
          1089,
          1110,
          1196,
          1156,
          1145,
          1109,
          1136,
          1162,
          1222,
          1147,
          1175,
          1151,
          1111,
          1196,
          1116,
          1167,
          1208,
          1203,
          1155,
          1116,
          1149,
          1105,
          1114,
          1156,
          1126,
          1170,
          1230,
          1126,
          1145,
          1139,
          1166,
          1247,
          1201,
          1173,
          1160,
          1211,
          1193,
          1227,
          1279,
          1160,
          1233,
          1251,
          1177,
          1304,
          1229,
          1231,
          1286,
          1326,
          1282,
          1322,
          1315,
          1261,
          1270,
          1239,
          1243,
          1233,
          1212,
          1196,
          1186,
          1163,
          1222,
          1196,
          1174,
          1223,
          1210,
          1282,
          1195,
          1166,
          1192,
          1221,
          1152,
          1165,
          1215,
          1197,
          1212,
          1211,
          1260,
          1217,
          1135,
          1298,
          1239,
          1141,
          1261,
          1252,
          1172,
          1190,
          1206,
          1216,
          1242,
          1227,
          1221,
          1166,
          1209,
          1229,
          1218,
          1223,
          1200,
          1229,
          1168,
          1241,
          1230,
          1247,
          1246,
          1288,
          1267,
          1315,
          1283,
          1291,
          1380,
          1299,
          1287,
          1253,
          1248,
          1231,
          1199,
          1295,
          1230,
          1291,
          1282,
          1234,
          1208,
          1252,
          1285,
          1178,
          1292,
          1214,
          1195,
          1232,
          1260,
          1214,
          1226,
          1248,
          1261,
          1292,
          1254,
          1211,
          1299,
          1303,
          1223,
          1218,
          1227,
          1304,
          1276,
          1259,
          1327,
          1271,
          1232,
          1255,
          1258,
          1120,
          1243,
          1196,
          1225,
          1215,
          1279,
          1254,
          1215,
          1171,
          1144,
          1206,
          1228,
          1192,
          1243,
          1219,
          1278,
          1224,
          1223,
          1231,
          1248,
          1217,
          1257,
          1224,
          1235,
          1201,
          1126,
          1167,
          1154,
          1128,
          1157,
          1160,
          1170,
          1142,
          1158,
          1094,
          1174,
          1196,
          1098,
          1211,
          1160,
          1161,
          1107,
          1156,
          1121,
          1175,
          1144,
          1064,
          1145,
          1145,
          1108,
          1197,
          1139,
          1144,
          1177,
          1163,
          1163,
          1124,
          1034,
          1123,
          1101,
          1073,
          1082,
          1065,
          1151,
          1140,
          1118,
          1089,
          1105,
          1168,
          1098,
          1110,
          1107,
          1093,
          1090,
          1065,
          1061,
          1045,
          1078,
          1173,
          1121,
          1080,
          1133,
          1095,
          1058,
          1031,
          1118,
          1047,
          1049,
          1089,
          1101,
          1090,
          1047,
          957,
          1047,
          1075,
          1151,
          1054,
          1040,
          1077,
          1053,
          1029,
          1046,
          940,
          1094,
          1043,
          1054,
          1007,
          1058,
          1073,
          1042,
          1066,
          1042,
          1035,
          1049,
          1045,
          1085,
          1080,
          1023,
          1039,
          1006,
          1017,
          1072,
          1082,
          1057,
          1097,
          1048,
          1053,
          1071,
          1054,
          1061,
          1028,
          1008,
          987,
          1003,
          1078,
          1062,
          1020,
          1064,
          1088,
          1004,
          1058,
          991,
          1024,
          1038,
          992,
          1109,
          1010,
          1011,
          1004,
          1054,
          1055,
          1076,
          999,
          1005,
          966,
          1048,
          1015,
          1066,
          1036,
          1041,
          1098,
          965,
          946,
          1011,
          1063,
          1044,
          1018,
          982,
          962,
          970,
          969,
          1014,
          1026,
          922,
          956,
          947,
          920,
          981,
          932,
          1009,
          965,
          964,
          958,
          967,
          924,
          1003,
          964,
          1015,
          982,
          985,
          940,
          935,
          933,
          949,
          906,
          981,
          939,
          890,
          934,
          918,
          858,
          904,
          967,
          904,
          920,
          910,
          890,
          918,
          850,
          927,
          874,
          932,
          873,
          880,
          818,
          883,
          854,
          864,
          777,
          848,
          840,
          842,
          869,
          839,
          866,
          844,
          862,
          825,
          870,
          855,
          782,
          871,
          791,
          800,
          743,
          816,
          821,
          812,
          742,
          784,
          766,
          787,
          733,
          796,
          770,
          749,
          784,
          762,
          743,
          748,
          747,
          758,
          737,
          712,
          706,
          718,
          722,
          704,
          705,
          672,
          669,
          670,
          649,
          664,
          651,
          675,
          637,
          648,
          638,
          620,
          628,
          617,
          604,
          638,
          588,
          567,
          556,
          658,
          576,
          588,
          599,
          573,
          591,
          569,
          558,
          578,
          539,
          578,
          591,
          603,
          561,
          571,
          571,
          528,
          545,
          523,
          491,
          539,
          511,
          508,
          524,
          527,
          499,
          491,
          464,
          469,
          492
         ],
         "yaxis": "y"
        }
       ],
       "layout": {
        "barmode": "relative",
        "legend": {
         "tracegroupgap": 0
        },
        "margin": {
         "t": 60
        },
        "template": {
         "data": {
          "bar": [
           {
            "error_x": {
             "color": "#2a3f5f"
            },
            "error_y": {
             "color": "#2a3f5f"
            },
            "marker": {
             "line": {
              "color": "#E5ECF6",
              "width": 0.5
             },
             "pattern": {
              "fillmode": "overlay",
              "size": 10,
              "solidity": 0.2
             }
            },
            "type": "bar"
           }
          ],
          "barpolar": [
           {
            "marker": {
             "line": {
              "color": "#E5ECF6",
              "width": 0.5
             },
             "pattern": {
              "fillmode": "overlay",
              "size": 10,
              "solidity": 0.2
             }
            },
            "type": "barpolar"
           }
          ],
          "carpet": [
           {
            "aaxis": {
             "endlinecolor": "#2a3f5f",
             "gridcolor": "white",
             "linecolor": "white",
             "minorgridcolor": "white",
             "startlinecolor": "#2a3f5f"
            },
            "baxis": {
             "endlinecolor": "#2a3f5f",
             "gridcolor": "white",
             "linecolor": "white",
             "minorgridcolor": "white",
             "startlinecolor": "#2a3f5f"
            },
            "type": "carpet"
           }
          ],
          "choropleth": [
           {
            "colorbar": {
             "outlinewidth": 0,
             "ticks": ""
            },
            "type": "choropleth"
           }
          ],
          "contour": [
           {
            "colorbar": {
             "outlinewidth": 0,
             "ticks": ""
            },
            "colorscale": [
             [
              0,
              "#0d0887"
             ],
             [
              0.1111111111111111,
              "#46039f"
             ],
             [
              0.2222222222222222,
              "#7201a8"
             ],
             [
              0.3333333333333333,
              "#9c179e"
             ],
             [
              0.4444444444444444,
              "#bd3786"
             ],
             [
              0.5555555555555556,
              "#d8576b"
             ],
             [
              0.6666666666666666,
              "#ed7953"
             ],
             [
              0.7777777777777778,
              "#fb9f3a"
             ],
             [
              0.8888888888888888,
              "#fdca26"
             ],
             [
              1,
              "#f0f921"
             ]
            ],
            "type": "contour"
           }
          ],
          "contourcarpet": [
           {
            "colorbar": {
             "outlinewidth": 0,
             "ticks": ""
            },
            "type": "contourcarpet"
           }
          ],
          "heatmap": [
           {
            "colorbar": {
             "outlinewidth": 0,
             "ticks": ""
            },
            "colorscale": [
             [
              0,
              "#0d0887"
             ],
             [
              0.1111111111111111,
              "#46039f"
             ],
             [
              0.2222222222222222,
              "#7201a8"
             ],
             [
              0.3333333333333333,
              "#9c179e"
             ],
             [
              0.4444444444444444,
              "#bd3786"
             ],
             [
              0.5555555555555556,
              "#d8576b"
             ],
             [
              0.6666666666666666,
              "#ed7953"
             ],
             [
              0.7777777777777778,
              "#fb9f3a"
             ],
             [
              0.8888888888888888,
              "#fdca26"
             ],
             [
              1,
              "#f0f921"
             ]
            ],
            "type": "heatmap"
           }
          ],
          "heatmapgl": [
           {
            "colorbar": {
             "outlinewidth": 0,
             "ticks": ""
            },
            "colorscale": [
             [
              0,
              "#0d0887"
             ],
             [
              0.1111111111111111,
              "#46039f"
             ],
             [
              0.2222222222222222,
              "#7201a8"
             ],
             [
              0.3333333333333333,
              "#9c179e"
             ],
             [
              0.4444444444444444,
              "#bd3786"
             ],
             [
              0.5555555555555556,
              "#d8576b"
             ],
             [
              0.6666666666666666,
              "#ed7953"
             ],
             [
              0.7777777777777778,
              "#fb9f3a"
             ],
             [
              0.8888888888888888,
              "#fdca26"
             ],
             [
              1,
              "#f0f921"
             ]
            ],
            "type": "heatmapgl"
           }
          ],
          "histogram": [
           {
            "marker": {
             "pattern": {
              "fillmode": "overlay",
              "size": 10,
              "solidity": 0.2
             }
            },
            "type": "histogram"
           }
          ],
          "histogram2d": [
           {
            "colorbar": {
             "outlinewidth": 0,
             "ticks": ""
            },
            "colorscale": [
             [
              0,
              "#0d0887"
             ],
             [
              0.1111111111111111,
              "#46039f"
             ],
             [
              0.2222222222222222,
              "#7201a8"
             ],
             [
              0.3333333333333333,
              "#9c179e"
             ],
             [
              0.4444444444444444,
              "#bd3786"
             ],
             [
              0.5555555555555556,
              "#d8576b"
             ],
             [
              0.6666666666666666,
              "#ed7953"
             ],
             [
              0.7777777777777778,
              "#fb9f3a"
             ],
             [
              0.8888888888888888,
              "#fdca26"
             ],
             [
              1,
              "#f0f921"
             ]
            ],
            "type": "histogram2d"
           }
          ],
          "histogram2dcontour": [
           {
            "colorbar": {
             "outlinewidth": 0,
             "ticks": ""
            },
            "colorscale": [
             [
              0,
              "#0d0887"
             ],
             [
              0.1111111111111111,
              "#46039f"
             ],
             [
              0.2222222222222222,
              "#7201a8"
             ],
             [
              0.3333333333333333,
              "#9c179e"
             ],
             [
              0.4444444444444444,
              "#bd3786"
             ],
             [
              0.5555555555555556,
              "#d8576b"
             ],
             [
              0.6666666666666666,
              "#ed7953"
             ],
             [
              0.7777777777777778,
              "#fb9f3a"
             ],
             [
              0.8888888888888888,
              "#fdca26"
             ],
             [
              1,
              "#f0f921"
             ]
            ],
            "type": "histogram2dcontour"
           }
          ],
          "mesh3d": [
           {
            "colorbar": {
             "outlinewidth": 0,
             "ticks": ""
            },
            "type": "mesh3d"
           }
          ],
          "parcoords": [
           {
            "line": {
             "colorbar": {
              "outlinewidth": 0,
              "ticks": ""
             }
            },
            "type": "parcoords"
           }
          ],
          "pie": [
           {
            "automargin": true,
            "type": "pie"
           }
          ],
          "scatter": [
           {
            "fillpattern": {
             "fillmode": "overlay",
             "size": 10,
             "solidity": 0.2
            },
            "type": "scatter"
           }
          ],
          "scatter3d": [
           {
            "line": {
             "colorbar": {
              "outlinewidth": 0,
              "ticks": ""
             }
            },
            "marker": {
             "colorbar": {
              "outlinewidth": 0,
              "ticks": ""
             }
            },
            "type": "scatter3d"
           }
          ],
          "scattercarpet": [
           {
            "marker": {
             "colorbar": {
              "outlinewidth": 0,
              "ticks": ""
             }
            },
            "type": "scattercarpet"
           }
          ],
          "scattergeo": [
           {
            "marker": {
             "colorbar": {
              "outlinewidth": 0,
              "ticks": ""
             }
            },
            "type": "scattergeo"
           }
          ],
          "scattergl": [
           {
            "marker": {
             "colorbar": {
              "outlinewidth": 0,
              "ticks": ""
             }
            },
            "type": "scattergl"
           }
          ],
          "scattermapbox": [
           {
            "marker": {
             "colorbar": {
              "outlinewidth": 0,
              "ticks": ""
             }
            },
            "type": "scattermapbox"
           }
          ],
          "scatterpolar": [
           {
            "marker": {
             "colorbar": {
              "outlinewidth": 0,
              "ticks": ""
             }
            },
            "type": "scatterpolar"
           }
          ],
          "scatterpolargl": [
           {
            "marker": {
             "colorbar": {
              "outlinewidth": 0,
              "ticks": ""
             }
            },
            "type": "scatterpolargl"
           }
          ],
          "scatterternary": [
           {
            "marker": {
             "colorbar": {
              "outlinewidth": 0,
              "ticks": ""
             }
            },
            "type": "scatterternary"
           }
          ],
          "surface": [
           {
            "colorbar": {
             "outlinewidth": 0,
             "ticks": ""
            },
            "colorscale": [
             [
              0,
              "#0d0887"
             ],
             [
              0.1111111111111111,
              "#46039f"
             ],
             [
              0.2222222222222222,
              "#7201a8"
             ],
             [
              0.3333333333333333,
              "#9c179e"
             ],
             [
              0.4444444444444444,
              "#bd3786"
             ],
             [
              0.5555555555555556,
              "#d8576b"
             ],
             [
              0.6666666666666666,
              "#ed7953"
             ],
             [
              0.7777777777777778,
              "#fb9f3a"
             ],
             [
              0.8888888888888888,
              "#fdca26"
             ],
             [
              1,
              "#f0f921"
             ]
            ],
            "type": "surface"
           }
          ],
          "table": [
           {
            "cells": {
             "fill": {
              "color": "#EBF0F8"
             },
             "line": {
              "color": "white"
             }
            },
            "header": {
             "fill": {
              "color": "#C8D4E3"
             },
             "line": {
              "color": "white"
             }
            },
            "type": "table"
           }
          ]
         },
         "layout": {
          "annotationdefaults": {
           "arrowcolor": "#2a3f5f",
           "arrowhead": 0,
           "arrowwidth": 1
          },
          "autotypenumbers": "strict",
          "coloraxis": {
           "colorbar": {
            "outlinewidth": 0,
            "ticks": ""
           }
          },
          "colorscale": {
           "diverging": [
            [
             0,
             "#8e0152"
            ],
            [
             0.1,
             "#c51b7d"
            ],
            [
             0.2,
             "#de77ae"
            ],
            [
             0.3,
             "#f1b6da"
            ],
            [
             0.4,
             "#fde0ef"
            ],
            [
             0.5,
             "#f7f7f7"
            ],
            [
             0.6,
             "#e6f5d0"
            ],
            [
             0.7,
             "#b8e186"
            ],
            [
             0.8,
             "#7fbc41"
            ],
            [
             0.9,
             "#4d9221"
            ],
            [
             1,
             "#276419"
            ]
           ],
           "sequential": [
            [
             0,
             "#0d0887"
            ],
            [
             0.1111111111111111,
             "#46039f"
            ],
            [
             0.2222222222222222,
             "#7201a8"
            ],
            [
             0.3333333333333333,
             "#9c179e"
            ],
            [
             0.4444444444444444,
             "#bd3786"
            ],
            [
             0.5555555555555556,
             "#d8576b"
            ],
            [
             0.6666666666666666,
             "#ed7953"
            ],
            [
             0.7777777777777778,
             "#fb9f3a"
            ],
            [
             0.8888888888888888,
             "#fdca26"
            ],
            [
             1,
             "#f0f921"
            ]
           ],
           "sequentialminus": [
            [
             0,
             "#0d0887"
            ],
            [
             0.1111111111111111,
             "#46039f"
            ],
            [
             0.2222222222222222,
             "#7201a8"
            ],
            [
             0.3333333333333333,
             "#9c179e"
            ],
            [
             0.4444444444444444,
             "#bd3786"
            ],
            [
             0.5555555555555556,
             "#d8576b"
            ],
            [
             0.6666666666666666,
             "#ed7953"
            ],
            [
             0.7777777777777778,
             "#fb9f3a"
            ],
            [
             0.8888888888888888,
             "#fdca26"
            ],
            [
             1,
             "#f0f921"
            ]
           ]
          },
          "colorway": [
           "#636efa",
           "#EF553B",
           "#00cc96",
           "#ab63fa",
           "#FFA15A",
           "#19d3f3",
           "#FF6692",
           "#B6E880",
           "#FF97FF",
           "#FECB52"
          ],
          "font": {
           "color": "#2a3f5f"
          },
          "geo": {
           "bgcolor": "white",
           "lakecolor": "white",
           "landcolor": "#E5ECF6",
           "showlakes": true,
           "showland": true,
           "subunitcolor": "white"
          },
          "hoverlabel": {
           "align": "left"
          },
          "hovermode": "closest",
          "mapbox": {
           "style": "light"
          },
          "paper_bgcolor": "white",
          "plot_bgcolor": "#E5ECF6",
          "polar": {
           "angularaxis": {
            "gridcolor": "white",
            "linecolor": "white",
            "ticks": ""
           },
           "bgcolor": "#E5ECF6",
           "radialaxis": {
            "gridcolor": "white",
            "linecolor": "white",
            "ticks": ""
           }
          },
          "scene": {
           "xaxis": {
            "backgroundcolor": "#E5ECF6",
            "gridcolor": "white",
            "gridwidth": 2,
            "linecolor": "white",
            "showbackground": true,
            "ticks": "",
            "zerolinecolor": "white"
           },
           "yaxis": {
            "backgroundcolor": "#E5ECF6",
            "gridcolor": "white",
            "gridwidth": 2,
            "linecolor": "white",
            "showbackground": true,
            "ticks": "",
            "zerolinecolor": "white"
           },
           "zaxis": {
            "backgroundcolor": "#E5ECF6",
            "gridcolor": "white",
            "gridwidth": 2,
            "linecolor": "white",
            "showbackground": true,
            "ticks": "",
            "zerolinecolor": "white"
           }
          },
          "shapedefaults": {
           "line": {
            "color": "#2a3f5f"
           }
          },
          "ternary": {
           "aaxis": {
            "gridcolor": "white",
            "linecolor": "white",
            "ticks": ""
           },
           "baxis": {
            "gridcolor": "white",
            "linecolor": "white",
            "ticks": ""
           },
           "bgcolor": "#E5ECF6",
           "caxis": {
            "gridcolor": "white",
            "linecolor": "white",
            "ticks": ""
           }
          },
          "title": {
           "x": 0.05
          },
          "xaxis": {
           "automargin": true,
           "gridcolor": "white",
           "linecolor": "white",
           "ticks": "",
           "title": {
            "standoff": 15
           },
           "zerolinecolor": "white",
           "zerolinewidth": 2
          },
          "yaxis": {
           "automargin": true,
           "gridcolor": "white",
           "linecolor": "white",
           "ticks": "",
           "title": {
            "standoff": 15
           },
           "zerolinecolor": "white",
           "zerolinewidth": 2
          }
         }
        },
        "title": {
         "text": "Time Frequency Distribution (Sorted by Time)"
        },
        "xaxis": {
         "anchor": "y",
         "domain": [
          0,
          1
         ],
         "title": {
          "text": "Time"
         },
         "type": "category"
        },
        "yaxis": {
         "anchor": "x",
         "domain": [
          0,
          1
         ],
         "title": {
          "text": "Frequency Count"
         }
        }
       }
      }
     },
     "metadata": {},
     "output_type": "display_data"
    }
   ],
   "source": [
    "# Perform frequency count of times\n",
    "time_counts = df['Time'].value_counts().reset_index()\n",
    "time_counts.columns = ['Time', 'Frequency']\n",
    "\n",
    "# Sort the time_counts DataFrame by 'Time' column in ascending order\n",
    "time_counts = time_counts.sort_values('Time')\n",
    "\n",
    "# Create Plotly bar chart for time frequency distribution\n",
    "fig = px.bar(time_counts, x='Time', y='Frequency', labels={'Time': 'Time', 'Frequency': 'Frequency Count'})\n",
    "fig.update_xaxes(type='category')\n",
    "fig.update_layout(title='Time Frequency Distribution (Sorted by Time)')\n",
    "fig.show()"
   ]
  },
  {
   "cell_type": "code",
   "execution_count": 41,
   "metadata": {},
   "outputs": [],
   "source": [
    "# Get day of week from date\n",
    "\n",
    "df['Day'] = df['Date/Time'].dt.day_name()"
   ]
  },
  {
   "cell_type": "code",
   "execution_count": 42,
   "metadata": {},
   "outputs": [
    {
     "data": {
      "application/vnd.plotly.v1+json": {
       "config": {
        "plotlyServerURL": "https://plot.ly"
       },
       "data": [
        {
         "alignmentgroup": "True",
         "hovertemplate": "Day=%{x}<br>Frequency Count=%{y}<extra></extra>",
         "legendgroup": "",
         "marker": {
          "color": "#636efa",
          "pattern": {
           "shape": ""
          }
         },
         "name": "",
         "offsetgroup": "",
         "orientation": "v",
         "showlegend": false,
         "textposition": "auto",
         "type": "bar",
         "x": [
          "Tuesday",
          "Saturday",
          "Friday",
          "Thursday",
          "Monday",
          "Wednesday",
          "Sunday"
         ],
         "xaxis": "x",
         "y": [
          163230,
          162057,
          160380,
          153276,
          137288,
          135373,
          116532
         ],
         "yaxis": "y"
        }
       ],
       "layout": {
        "barmode": "relative",
        "legend": {
         "tracegroupgap": 0
        },
        "margin": {
         "t": 60
        },
        "template": {
         "data": {
          "bar": [
           {
            "error_x": {
             "color": "#2a3f5f"
            },
            "error_y": {
             "color": "#2a3f5f"
            },
            "marker": {
             "line": {
              "color": "#E5ECF6",
              "width": 0.5
             },
             "pattern": {
              "fillmode": "overlay",
              "size": 10,
              "solidity": 0.2
             }
            },
            "type": "bar"
           }
          ],
          "barpolar": [
           {
            "marker": {
             "line": {
              "color": "#E5ECF6",
              "width": 0.5
             },
             "pattern": {
              "fillmode": "overlay",
              "size": 10,
              "solidity": 0.2
             }
            },
            "type": "barpolar"
           }
          ],
          "carpet": [
           {
            "aaxis": {
             "endlinecolor": "#2a3f5f",
             "gridcolor": "white",
             "linecolor": "white",
             "minorgridcolor": "white",
             "startlinecolor": "#2a3f5f"
            },
            "baxis": {
             "endlinecolor": "#2a3f5f",
             "gridcolor": "white",
             "linecolor": "white",
             "minorgridcolor": "white",
             "startlinecolor": "#2a3f5f"
            },
            "type": "carpet"
           }
          ],
          "choropleth": [
           {
            "colorbar": {
             "outlinewidth": 0,
             "ticks": ""
            },
            "type": "choropleth"
           }
          ],
          "contour": [
           {
            "colorbar": {
             "outlinewidth": 0,
             "ticks": ""
            },
            "colorscale": [
             [
              0,
              "#0d0887"
             ],
             [
              0.1111111111111111,
              "#46039f"
             ],
             [
              0.2222222222222222,
              "#7201a8"
             ],
             [
              0.3333333333333333,
              "#9c179e"
             ],
             [
              0.4444444444444444,
              "#bd3786"
             ],
             [
              0.5555555555555556,
              "#d8576b"
             ],
             [
              0.6666666666666666,
              "#ed7953"
             ],
             [
              0.7777777777777778,
              "#fb9f3a"
             ],
             [
              0.8888888888888888,
              "#fdca26"
             ],
             [
              1,
              "#f0f921"
             ]
            ],
            "type": "contour"
           }
          ],
          "contourcarpet": [
           {
            "colorbar": {
             "outlinewidth": 0,
             "ticks": ""
            },
            "type": "contourcarpet"
           }
          ],
          "heatmap": [
           {
            "colorbar": {
             "outlinewidth": 0,
             "ticks": ""
            },
            "colorscale": [
             [
              0,
              "#0d0887"
             ],
             [
              0.1111111111111111,
              "#46039f"
             ],
             [
              0.2222222222222222,
              "#7201a8"
             ],
             [
              0.3333333333333333,
              "#9c179e"
             ],
             [
              0.4444444444444444,
              "#bd3786"
             ],
             [
              0.5555555555555556,
              "#d8576b"
             ],
             [
              0.6666666666666666,
              "#ed7953"
             ],
             [
              0.7777777777777778,
              "#fb9f3a"
             ],
             [
              0.8888888888888888,
              "#fdca26"
             ],
             [
              1,
              "#f0f921"
             ]
            ],
            "type": "heatmap"
           }
          ],
          "heatmapgl": [
           {
            "colorbar": {
             "outlinewidth": 0,
             "ticks": ""
            },
            "colorscale": [
             [
              0,
              "#0d0887"
             ],
             [
              0.1111111111111111,
              "#46039f"
             ],
             [
              0.2222222222222222,
              "#7201a8"
             ],
             [
              0.3333333333333333,
              "#9c179e"
             ],
             [
              0.4444444444444444,
              "#bd3786"
             ],
             [
              0.5555555555555556,
              "#d8576b"
             ],
             [
              0.6666666666666666,
              "#ed7953"
             ],
             [
              0.7777777777777778,
              "#fb9f3a"
             ],
             [
              0.8888888888888888,
              "#fdca26"
             ],
             [
              1,
              "#f0f921"
             ]
            ],
            "type": "heatmapgl"
           }
          ],
          "histogram": [
           {
            "marker": {
             "pattern": {
              "fillmode": "overlay",
              "size": 10,
              "solidity": 0.2
             }
            },
            "type": "histogram"
           }
          ],
          "histogram2d": [
           {
            "colorbar": {
             "outlinewidth": 0,
             "ticks": ""
            },
            "colorscale": [
             [
              0,
              "#0d0887"
             ],
             [
              0.1111111111111111,
              "#46039f"
             ],
             [
              0.2222222222222222,
              "#7201a8"
             ],
             [
              0.3333333333333333,
              "#9c179e"
             ],
             [
              0.4444444444444444,
              "#bd3786"
             ],
             [
              0.5555555555555556,
              "#d8576b"
             ],
             [
              0.6666666666666666,
              "#ed7953"
             ],
             [
              0.7777777777777778,
              "#fb9f3a"
             ],
             [
              0.8888888888888888,
              "#fdca26"
             ],
             [
              1,
              "#f0f921"
             ]
            ],
            "type": "histogram2d"
           }
          ],
          "histogram2dcontour": [
           {
            "colorbar": {
             "outlinewidth": 0,
             "ticks": ""
            },
            "colorscale": [
             [
              0,
              "#0d0887"
             ],
             [
              0.1111111111111111,
              "#46039f"
             ],
             [
              0.2222222222222222,
              "#7201a8"
             ],
             [
              0.3333333333333333,
              "#9c179e"
             ],
             [
              0.4444444444444444,
              "#bd3786"
             ],
             [
              0.5555555555555556,
              "#d8576b"
             ],
             [
              0.6666666666666666,
              "#ed7953"
             ],
             [
              0.7777777777777778,
              "#fb9f3a"
             ],
             [
              0.8888888888888888,
              "#fdca26"
             ],
             [
              1,
              "#f0f921"
             ]
            ],
            "type": "histogram2dcontour"
           }
          ],
          "mesh3d": [
           {
            "colorbar": {
             "outlinewidth": 0,
             "ticks": ""
            },
            "type": "mesh3d"
           }
          ],
          "parcoords": [
           {
            "line": {
             "colorbar": {
              "outlinewidth": 0,
              "ticks": ""
             }
            },
            "type": "parcoords"
           }
          ],
          "pie": [
           {
            "automargin": true,
            "type": "pie"
           }
          ],
          "scatter": [
           {
            "fillpattern": {
             "fillmode": "overlay",
             "size": 10,
             "solidity": 0.2
            },
            "type": "scatter"
           }
          ],
          "scatter3d": [
           {
            "line": {
             "colorbar": {
              "outlinewidth": 0,
              "ticks": ""
             }
            },
            "marker": {
             "colorbar": {
              "outlinewidth": 0,
              "ticks": ""
             }
            },
            "type": "scatter3d"
           }
          ],
          "scattercarpet": [
           {
            "marker": {
             "colorbar": {
              "outlinewidth": 0,
              "ticks": ""
             }
            },
            "type": "scattercarpet"
           }
          ],
          "scattergeo": [
           {
            "marker": {
             "colorbar": {
              "outlinewidth": 0,
              "ticks": ""
             }
            },
            "type": "scattergeo"
           }
          ],
          "scattergl": [
           {
            "marker": {
             "colorbar": {
              "outlinewidth": 0,
              "ticks": ""
             }
            },
            "type": "scattergl"
           }
          ],
          "scattermapbox": [
           {
            "marker": {
             "colorbar": {
              "outlinewidth": 0,
              "ticks": ""
             }
            },
            "type": "scattermapbox"
           }
          ],
          "scatterpolar": [
           {
            "marker": {
             "colorbar": {
              "outlinewidth": 0,
              "ticks": ""
             }
            },
            "type": "scatterpolar"
           }
          ],
          "scatterpolargl": [
           {
            "marker": {
             "colorbar": {
              "outlinewidth": 0,
              "ticks": ""
             }
            },
            "type": "scatterpolargl"
           }
          ],
          "scatterternary": [
           {
            "marker": {
             "colorbar": {
              "outlinewidth": 0,
              "ticks": ""
             }
            },
            "type": "scatterternary"
           }
          ],
          "surface": [
           {
            "colorbar": {
             "outlinewidth": 0,
             "ticks": ""
            },
            "colorscale": [
             [
              0,
              "#0d0887"
             ],
             [
              0.1111111111111111,
              "#46039f"
             ],
             [
              0.2222222222222222,
              "#7201a8"
             ],
             [
              0.3333333333333333,
              "#9c179e"
             ],
             [
              0.4444444444444444,
              "#bd3786"
             ],
             [
              0.5555555555555556,
              "#d8576b"
             ],
             [
              0.6666666666666666,
              "#ed7953"
             ],
             [
              0.7777777777777778,
              "#fb9f3a"
             ],
             [
              0.8888888888888888,
              "#fdca26"
             ],
             [
              1,
              "#f0f921"
             ]
            ],
            "type": "surface"
           }
          ],
          "table": [
           {
            "cells": {
             "fill": {
              "color": "#EBF0F8"
             },
             "line": {
              "color": "white"
             }
            },
            "header": {
             "fill": {
              "color": "#C8D4E3"
             },
             "line": {
              "color": "white"
             }
            },
            "type": "table"
           }
          ]
         },
         "layout": {
          "annotationdefaults": {
           "arrowcolor": "#2a3f5f",
           "arrowhead": 0,
           "arrowwidth": 1
          },
          "autotypenumbers": "strict",
          "coloraxis": {
           "colorbar": {
            "outlinewidth": 0,
            "ticks": ""
           }
          },
          "colorscale": {
           "diverging": [
            [
             0,
             "#8e0152"
            ],
            [
             0.1,
             "#c51b7d"
            ],
            [
             0.2,
             "#de77ae"
            ],
            [
             0.3,
             "#f1b6da"
            ],
            [
             0.4,
             "#fde0ef"
            ],
            [
             0.5,
             "#f7f7f7"
            ],
            [
             0.6,
             "#e6f5d0"
            ],
            [
             0.7,
             "#b8e186"
            ],
            [
             0.8,
             "#7fbc41"
            ],
            [
             0.9,
             "#4d9221"
            ],
            [
             1,
             "#276419"
            ]
           ],
           "sequential": [
            [
             0,
             "#0d0887"
            ],
            [
             0.1111111111111111,
             "#46039f"
            ],
            [
             0.2222222222222222,
             "#7201a8"
            ],
            [
             0.3333333333333333,
             "#9c179e"
            ],
            [
             0.4444444444444444,
             "#bd3786"
            ],
            [
             0.5555555555555556,
             "#d8576b"
            ],
            [
             0.6666666666666666,
             "#ed7953"
            ],
            [
             0.7777777777777778,
             "#fb9f3a"
            ],
            [
             0.8888888888888888,
             "#fdca26"
            ],
            [
             1,
             "#f0f921"
            ]
           ],
           "sequentialminus": [
            [
             0,
             "#0d0887"
            ],
            [
             0.1111111111111111,
             "#46039f"
            ],
            [
             0.2222222222222222,
             "#7201a8"
            ],
            [
             0.3333333333333333,
             "#9c179e"
            ],
            [
             0.4444444444444444,
             "#bd3786"
            ],
            [
             0.5555555555555556,
             "#d8576b"
            ],
            [
             0.6666666666666666,
             "#ed7953"
            ],
            [
             0.7777777777777778,
             "#fb9f3a"
            ],
            [
             0.8888888888888888,
             "#fdca26"
            ],
            [
             1,
             "#f0f921"
            ]
           ]
          },
          "colorway": [
           "#636efa",
           "#EF553B",
           "#00cc96",
           "#ab63fa",
           "#FFA15A",
           "#19d3f3",
           "#FF6692",
           "#B6E880",
           "#FF97FF",
           "#FECB52"
          ],
          "font": {
           "color": "#2a3f5f"
          },
          "geo": {
           "bgcolor": "white",
           "lakecolor": "white",
           "landcolor": "#E5ECF6",
           "showlakes": true,
           "showland": true,
           "subunitcolor": "white"
          },
          "hoverlabel": {
           "align": "left"
          },
          "hovermode": "closest",
          "mapbox": {
           "style": "light"
          },
          "paper_bgcolor": "white",
          "plot_bgcolor": "#E5ECF6",
          "polar": {
           "angularaxis": {
            "gridcolor": "white",
            "linecolor": "white",
            "ticks": ""
           },
           "bgcolor": "#E5ECF6",
           "radialaxis": {
            "gridcolor": "white",
            "linecolor": "white",
            "ticks": ""
           }
          },
          "scene": {
           "xaxis": {
            "backgroundcolor": "#E5ECF6",
            "gridcolor": "white",
            "gridwidth": 2,
            "linecolor": "white",
            "showbackground": true,
            "ticks": "",
            "zerolinecolor": "white"
           },
           "yaxis": {
            "backgroundcolor": "#E5ECF6",
            "gridcolor": "white",
            "gridwidth": 2,
            "linecolor": "white",
            "showbackground": true,
            "ticks": "",
            "zerolinecolor": "white"
           },
           "zaxis": {
            "backgroundcolor": "#E5ECF6",
            "gridcolor": "white",
            "gridwidth": 2,
            "linecolor": "white",
            "showbackground": true,
            "ticks": "",
            "zerolinecolor": "white"
           }
          },
          "shapedefaults": {
           "line": {
            "color": "#2a3f5f"
           }
          },
          "ternary": {
           "aaxis": {
            "gridcolor": "white",
            "linecolor": "white",
            "ticks": ""
           },
           "baxis": {
            "gridcolor": "white",
            "linecolor": "white",
            "ticks": ""
           },
           "bgcolor": "#E5ECF6",
           "caxis": {
            "gridcolor": "white",
            "linecolor": "white",
            "ticks": ""
           }
          },
          "title": {
           "x": 0.05
          },
          "xaxis": {
           "automargin": true,
           "gridcolor": "white",
           "linecolor": "white",
           "ticks": "",
           "title": {
            "standoff": 15
           },
           "zerolinecolor": "white",
           "zerolinewidth": 2
          },
          "yaxis": {
           "automargin": true,
           "gridcolor": "white",
           "linecolor": "white",
           "ticks": "",
           "title": {
            "standoff": 15
           },
           "zerolinecolor": "white",
           "zerolinewidth": 2
          }
         }
        },
        "title": {
         "text": "Day Frequency Distribution (Sorted by Frequency)"
        },
        "xaxis": {
         "anchor": "y",
         "domain": [
          0,
          1
         ],
         "title": {
          "text": "Day"
         },
         "type": "category"
        },
        "yaxis": {
         "anchor": "x",
         "domain": [
          0,
          1
         ],
         "title": {
          "text": "Frequency Count"
         }
        }
       }
      }
     },
     "metadata": {},
     "output_type": "display_data"
    }
   ],
   "source": [
    "# Perform frequency count of days\n",
    "days_counts = df['Day'].value_counts().reset_index()\n",
    "days_counts.columns = ['Day', 'Frequency']\n",
    "\n",
    "# Create Plotly bar chart for day frequency distribution\n",
    "fig = px.bar(days_counts, x='Day', y='Frequency', labels={'Day': 'Day', 'Frequency': 'Frequency Count'})\n",
    "fig.update_xaxes(type='category')  \n",
    "fig.update_layout(title='Day Frequency Distribution (Sorted by Frequency)')\n",
    "fig.show()"
   ]
  },
  {
   "cell_type": "code",
   "execution_count": 43,
   "metadata": {},
   "outputs": [
    {
     "name": "stdout",
     "output_type": "stream",
     "text": [
      "Index(['Date/Time', 'Lat', 'Lon', 'Base'], dtype='object')\n",
      "Index(['Date/Time', 'Lat', 'Lon', 'Base'], dtype='object')\n",
      "Index(['Dispatching_base_num', 'Pickup_date', 'Affiliated_base_num',\n",
      "       'locationID'],\n",
      "      dtype='object')\n",
      "Index(['Date/Time', 'Lat', 'Lon', 'Base'], dtype='object')\n",
      "Index(['Date/Time', 'Lat', 'Lon', 'Base'], dtype='object')\n",
      "Index(['Date/Time', 'Lat', 'Lon', 'Base'], dtype='object')\n",
      "Index(['Date/Time', 'Lat', 'Lon', 'Base'], dtype='object')\n"
     ]
    }
   ],
   "source": [
    "# Pass in file pattern to get all files in directory\n",
    "files = ds.get_files_by_regex('../data/raw/uber-raw-data*.csv')\n",
    "\n",
    "# Create empty list to store data frames, then populate it with data frames from files\n",
    "data_frames = []\n",
    "\n",
    "for file in files:\n",
    "    data_frames.append(pd.read_csv(file))\n",
    "\n",
    "# Print columns of each data frame to verify they are the same\n",
    "for data_frame in data_frames:\n",
    "    print(data_frame.columns)"
   ]
  },
  {
   "cell_type": "code",
   "execution_count": 44,
   "metadata": {},
   "outputs": [
    {
     "data": {
      "text/html": [
       "<div>\n",
       "<style scoped>\n",
       "    .dataframe tbody tr th:only-of-type {\n",
       "        vertical-align: middle;\n",
       "    }\n",
       "\n",
       "    .dataframe tbody tr th {\n",
       "        vertical-align: top;\n",
       "    }\n",
       "\n",
       "    .dataframe thead th {\n",
       "        text-align: right;\n",
       "    }\n",
       "</style>\n",
       "<table border=\"1\" class=\"dataframe\">\n",
       "  <thead>\n",
       "    <tr style=\"text-align: right;\">\n",
       "      <th></th>\n",
       "      <th>Dispatching_base_num</th>\n",
       "      <th>Pickup_date</th>\n",
       "      <th>Affiliated_base_num</th>\n",
       "      <th>locationID</th>\n",
       "    </tr>\n",
       "  </thead>\n",
       "  <tbody>\n",
       "    <tr>\n",
       "      <th>0</th>\n",
       "      <td>B02617</td>\n",
       "      <td>2015-05-17 09:47:00</td>\n",
       "      <td>B02617</td>\n",
       "      <td>141</td>\n",
       "    </tr>\n",
       "    <tr>\n",
       "      <th>1</th>\n",
       "      <td>B02617</td>\n",
       "      <td>2015-05-17 09:47:00</td>\n",
       "      <td>B02617</td>\n",
       "      <td>65</td>\n",
       "    </tr>\n",
       "    <tr>\n",
       "      <th>2</th>\n",
       "      <td>B02617</td>\n",
       "      <td>2015-05-17 09:47:00</td>\n",
       "      <td>B02617</td>\n",
       "      <td>100</td>\n",
       "    </tr>\n",
       "    <tr>\n",
       "      <th>3</th>\n",
       "      <td>B02617</td>\n",
       "      <td>2015-05-17 09:47:00</td>\n",
       "      <td>B02774</td>\n",
       "      <td>80</td>\n",
       "    </tr>\n",
       "    <tr>\n",
       "      <th>4</th>\n",
       "      <td>B02617</td>\n",
       "      <td>2015-05-17 09:47:00</td>\n",
       "      <td>B02617</td>\n",
       "      <td>90</td>\n",
       "    </tr>\n",
       "    <tr>\n",
       "      <th>...</th>\n",
       "      <td>...</td>\n",
       "      <td>...</td>\n",
       "      <td>...</td>\n",
       "      <td>...</td>\n",
       "    </tr>\n",
       "    <tr>\n",
       "      <th>14270474</th>\n",
       "      <td>B02765</td>\n",
       "      <td>2015-05-08 15:43:00</td>\n",
       "      <td>B02765</td>\n",
       "      <td>186</td>\n",
       "    </tr>\n",
       "    <tr>\n",
       "      <th>14270475</th>\n",
       "      <td>B02765</td>\n",
       "      <td>2015-05-08 15:43:00</td>\n",
       "      <td>B02765</td>\n",
       "      <td>263</td>\n",
       "    </tr>\n",
       "    <tr>\n",
       "      <th>14270476</th>\n",
       "      <td>B02765</td>\n",
       "      <td>2015-05-08 15:43:00</td>\n",
       "      <td>B02765</td>\n",
       "      <td>90</td>\n",
       "    </tr>\n",
       "    <tr>\n",
       "      <th>14270477</th>\n",
       "      <td>B02765</td>\n",
       "      <td>2015-05-08 15:44:00</td>\n",
       "      <td>B01899</td>\n",
       "      <td>45</td>\n",
       "    </tr>\n",
       "    <tr>\n",
       "      <th>14270478</th>\n",
       "      <td>B02765</td>\n",
       "      <td>2015-05-08 15:44:00</td>\n",
       "      <td>B02682</td>\n",
       "      <td>144</td>\n",
       "    </tr>\n",
       "  </tbody>\n",
       "</table>\n",
       "<p>14270479 rows × 4 columns</p>\n",
       "</div>"
      ],
      "text/plain": [
       "         Dispatching_base_num          Pickup_date Affiliated_base_num   \n",
       "0                      B02617  2015-05-17 09:47:00              B02617  \\\n",
       "1                      B02617  2015-05-17 09:47:00              B02617   \n",
       "2                      B02617  2015-05-17 09:47:00              B02617   \n",
       "3                      B02617  2015-05-17 09:47:00              B02774   \n",
       "4                      B02617  2015-05-17 09:47:00              B02617   \n",
       "...                       ...                  ...                 ...   \n",
       "14270474               B02765  2015-05-08 15:43:00              B02765   \n",
       "14270475               B02765  2015-05-08 15:43:00              B02765   \n",
       "14270476               B02765  2015-05-08 15:43:00              B02765   \n",
       "14270477               B02765  2015-05-08 15:44:00              B01899   \n",
       "14270478               B02765  2015-05-08 15:44:00              B02682   \n",
       "\n",
       "          locationID  \n",
       "0                141  \n",
       "1                 65  \n",
       "2                100  \n",
       "3                 80  \n",
       "4                 90  \n",
       "...              ...  \n",
       "14270474         186  \n",
       "14270475         263  \n",
       "14270476          90  \n",
       "14270477          45  \n",
       "14270478         144  \n",
       "\n",
       "[14270479 rows x 4 columns]"
      ]
     },
     "execution_count": 44,
     "metadata": {},
     "output_type": "execute_result"
    }
   ],
   "source": [
    "# Investigate unique data frame values to see if they are the same\n",
    "\n",
    "data_frames[2]"
   ]
  },
  {
   "cell_type": "code",
   "execution_count": 45,
   "metadata": {},
   "outputs": [],
   "source": [
    "# Remove data for now, possibly revisit later for Pickup_date column\n",
    "\n",
    "del data_frames[2]"
   ]
  },
  {
   "cell_type": "code",
   "execution_count": 46,
   "metadata": {},
   "outputs": [
    {
     "name": "stdout",
     "output_type": "stream",
     "text": [
      "Index(['Date/Time', 'Lat', 'Lon', 'Base'], dtype='object')\n",
      "Index(['Date/Time', 'Lat', 'Lon', 'Base'], dtype='object')\n",
      "Index(['Date/Time', 'Lat', 'Lon', 'Base'], dtype='object')\n",
      "Index(['Date/Time', 'Lat', 'Lon', 'Base'], dtype='object')\n",
      "Index(['Date/Time', 'Lat', 'Lon', 'Base'], dtype='object')\n",
      "Index(['Date/Time', 'Lat', 'Lon', 'Base'], dtype='object')\n"
     ]
    }
   ],
   "source": [
    "# Verify unique data frame removed\n",
    "\n",
    "for data_frame in data_frames:\n",
    "    print(data_frame.columns)"
   ]
  },
  {
   "cell_type": "code",
   "execution_count": 47,
   "metadata": {},
   "outputs": [
    {
     "data": {
      "text/html": [
       "<div>\n",
       "<style scoped>\n",
       "    .dataframe tbody tr th:only-of-type {\n",
       "        vertical-align: middle;\n",
       "    }\n",
       "\n",
       "    .dataframe tbody tr th {\n",
       "        vertical-align: top;\n",
       "    }\n",
       "\n",
       "    .dataframe thead th {\n",
       "        text-align: right;\n",
       "    }\n",
       "</style>\n",
       "<table border=\"1\" class=\"dataframe\">\n",
       "  <thead>\n",
       "    <tr style=\"text-align: right;\">\n",
       "      <th></th>\n",
       "      <th>Date/Time</th>\n",
       "      <th>Lat</th>\n",
       "      <th>Lon</th>\n",
       "      <th>Base</th>\n",
       "    </tr>\n",
       "  </thead>\n",
       "  <tbody>\n",
       "    <tr>\n",
       "      <th>0</th>\n",
       "      <td>4/1/2014 0:11:00</td>\n",
       "      <td>40.7690</td>\n",
       "      <td>-73.9549</td>\n",
       "      <td>B02512</td>\n",
       "    </tr>\n",
       "    <tr>\n",
       "      <th>1</th>\n",
       "      <td>4/1/2014 0:17:00</td>\n",
       "      <td>40.7267</td>\n",
       "      <td>-74.0345</td>\n",
       "      <td>B02512</td>\n",
       "    </tr>\n",
       "    <tr>\n",
       "      <th>2</th>\n",
       "      <td>4/1/2014 0:21:00</td>\n",
       "      <td>40.7316</td>\n",
       "      <td>-73.9873</td>\n",
       "      <td>B02512</td>\n",
       "    </tr>\n",
       "    <tr>\n",
       "      <th>3</th>\n",
       "      <td>4/1/2014 0:28:00</td>\n",
       "      <td>40.7588</td>\n",
       "      <td>-73.9776</td>\n",
       "      <td>B02512</td>\n",
       "    </tr>\n",
       "    <tr>\n",
       "      <th>4</th>\n",
       "      <td>4/1/2014 0:33:00</td>\n",
       "      <td>40.7594</td>\n",
       "      <td>-73.9722</td>\n",
       "      <td>B02512</td>\n",
       "    </tr>\n",
       "    <tr>\n",
       "      <th>...</th>\n",
       "      <td>...</td>\n",
       "      <td>...</td>\n",
       "      <td>...</td>\n",
       "      <td>...</td>\n",
       "    </tr>\n",
       "    <tr>\n",
       "      <th>4534322</th>\n",
       "      <td>9/30/2014 22:57:00</td>\n",
       "      <td>40.7668</td>\n",
       "      <td>-73.9845</td>\n",
       "      <td>B02764</td>\n",
       "    </tr>\n",
       "    <tr>\n",
       "      <th>4534323</th>\n",
       "      <td>9/30/2014 22:57:00</td>\n",
       "      <td>40.6911</td>\n",
       "      <td>-74.1773</td>\n",
       "      <td>B02764</td>\n",
       "    </tr>\n",
       "    <tr>\n",
       "      <th>4534324</th>\n",
       "      <td>9/30/2014 22:58:00</td>\n",
       "      <td>40.8519</td>\n",
       "      <td>-73.9319</td>\n",
       "      <td>B02764</td>\n",
       "    </tr>\n",
       "    <tr>\n",
       "      <th>4534325</th>\n",
       "      <td>9/30/2014 22:58:00</td>\n",
       "      <td>40.7081</td>\n",
       "      <td>-74.0066</td>\n",
       "      <td>B02764</td>\n",
       "    </tr>\n",
       "    <tr>\n",
       "      <th>4534326</th>\n",
       "      <td>9/30/2014 22:58:00</td>\n",
       "      <td>40.7140</td>\n",
       "      <td>-73.9496</td>\n",
       "      <td>B02764</td>\n",
       "    </tr>\n",
       "  </tbody>\n",
       "</table>\n",
       "<p>4534327 rows × 4 columns</p>\n",
       "</div>"
      ],
      "text/plain": [
       "                  Date/Time      Lat      Lon    Base\n",
       "0          4/1/2014 0:11:00  40.7690 -73.9549  B02512\n",
       "1          4/1/2014 0:17:00  40.7267 -74.0345  B02512\n",
       "2          4/1/2014 0:21:00  40.7316 -73.9873  B02512\n",
       "3          4/1/2014 0:28:00  40.7588 -73.9776  B02512\n",
       "4          4/1/2014 0:33:00  40.7594 -73.9722  B02512\n",
       "...                     ...      ...      ...     ...\n",
       "4534322  9/30/2014 22:57:00  40.7668 -73.9845  B02764\n",
       "4534323  9/30/2014 22:57:00  40.6911 -74.1773  B02764\n",
       "4534324  9/30/2014 22:58:00  40.8519 -73.9319  B02764\n",
       "4534325  9/30/2014 22:58:00  40.7081 -74.0066  B02764\n",
       "4534326  9/30/2014 22:58:00  40.7140 -73.9496  B02764\n",
       "\n",
       "[4534327 rows x 4 columns]"
      ]
     },
     "execution_count": 47,
     "metadata": {},
     "output_type": "execute_result"
    }
   ],
   "source": [
    "# Merge data frames\n",
    "\n",
    "from functools import reduce\n",
    "\n",
    "df_merged = reduce(lambda  left,right: pd.merge(left,right,on=['Date/Time', 'Lat', 'Lon', 'Base'], how='outer'), data_frames)\n",
    "\n",
    "df_merged"
   ]
  },
  {
   "cell_type": "code",
   "execution_count": 48,
   "metadata": {},
   "outputs": [],
   "source": [
    "# Convert raw merged data to csv\n",
    "\n",
    "df_merged.to_csv('../data/processed/uber-raw-data-merged.csv', index=False)"
   ]
  },
  {
   "cell_type": "code",
   "execution_count": 49,
   "metadata": {},
   "outputs": [
    {
     "name": "stdout",
     "output_type": "stream",
     "text": [
      "Null Values: False, NA Values: False\n"
     ]
    }
   ],
   "source": [
    "# Verify integrity of merged raw data\n",
    "\n",
    "print(f'Null Values: {df_merged.isnull().any().any()}, NA Values: {df_merged.isna().any().any()}')"
   ]
  },
  {
   "cell_type": "code",
   "execution_count": 52,
   "metadata": {},
   "outputs": [],
   "source": [
    "# Apply filter functions to aggregate merged data\n",
    "\n",
    "df_merged['Date/Time'] = pd.to_datetime(df_merged['Date/Time'])\n",
    "\n",
    "df_merged['Date'] = df_merged['Date/Time'].dt.date\n",
    "\n",
    "df_merged['Time'] = df_merged['Date/Time'].dt.time\n",
    "\n",
    "df_merged['Day'] = df_merged['Date/Time'].dt.day_name()"
   ]
  },
  {
   "cell_type": "code",
   "execution_count": null,
   "metadata": {},
   "outputs": [
    {
     "data": {
      "application/vnd.plotly.v1+json": {
       "config": {
        "plotlyServerURL": "https://plot.ly"
       },
       "data": [
        {
         "alignmentgroup": "True",
         "hovertemplate": "Day=%{x}<br>Frequency Count=%{y}<extra></extra>",
         "legendgroup": "",
         "marker": {
          "color": "#636efa",
          "pattern": {
           "shape": ""
          }
         },
         "name": "",
         "offsetgroup": "",
         "orientation": "v",
         "showlegend": false,
         "textposition": "auto",
         "type": "bar",
         "x": [
          "Thursday",
          "Friday",
          "Wednesday",
          "Tuesday",
          "Saturday",
          "Monday",
          "Sunday"
         ],
         "xaxis": "x",
         "y": [
          755145,
          741139,
          696488,
          663789,
          646114,
          541472,
          490180
         ],
         "yaxis": "y"
        }
       ],
       "layout": {
        "barmode": "relative",
        "legend": {
         "tracegroupgap": 0
        },
        "margin": {
         "t": 60
        },
        "template": {
         "data": {
          "bar": [
           {
            "error_x": {
             "color": "#2a3f5f"
            },
            "error_y": {
             "color": "#2a3f5f"
            },
            "marker": {
             "line": {
              "color": "#E5ECF6",
              "width": 0.5
             },
             "pattern": {
              "fillmode": "overlay",
              "size": 10,
              "solidity": 0.2
             }
            },
            "type": "bar"
           }
          ],
          "barpolar": [
           {
            "marker": {
             "line": {
              "color": "#E5ECF6",
              "width": 0.5
             },
             "pattern": {
              "fillmode": "overlay",
              "size": 10,
              "solidity": 0.2
             }
            },
            "type": "barpolar"
           }
          ],
          "carpet": [
           {
            "aaxis": {
             "endlinecolor": "#2a3f5f",
             "gridcolor": "white",
             "linecolor": "white",
             "minorgridcolor": "white",
             "startlinecolor": "#2a3f5f"
            },
            "baxis": {
             "endlinecolor": "#2a3f5f",
             "gridcolor": "white",
             "linecolor": "white",
             "minorgridcolor": "white",
             "startlinecolor": "#2a3f5f"
            },
            "type": "carpet"
           }
          ],
          "choropleth": [
           {
            "colorbar": {
             "outlinewidth": 0,
             "ticks": ""
            },
            "type": "choropleth"
           }
          ],
          "contour": [
           {
            "colorbar": {
             "outlinewidth": 0,
             "ticks": ""
            },
            "colorscale": [
             [
              0,
              "#0d0887"
             ],
             [
              0.1111111111111111,
              "#46039f"
             ],
             [
              0.2222222222222222,
              "#7201a8"
             ],
             [
              0.3333333333333333,
              "#9c179e"
             ],
             [
              0.4444444444444444,
              "#bd3786"
             ],
             [
              0.5555555555555556,
              "#d8576b"
             ],
             [
              0.6666666666666666,
              "#ed7953"
             ],
             [
              0.7777777777777778,
              "#fb9f3a"
             ],
             [
              0.8888888888888888,
              "#fdca26"
             ],
             [
              1,
              "#f0f921"
             ]
            ],
            "type": "contour"
           }
          ],
          "contourcarpet": [
           {
            "colorbar": {
             "outlinewidth": 0,
             "ticks": ""
            },
            "type": "contourcarpet"
           }
          ],
          "heatmap": [
           {
            "colorbar": {
             "outlinewidth": 0,
             "ticks": ""
            },
            "colorscale": [
             [
              0,
              "#0d0887"
             ],
             [
              0.1111111111111111,
              "#46039f"
             ],
             [
              0.2222222222222222,
              "#7201a8"
             ],
             [
              0.3333333333333333,
              "#9c179e"
             ],
             [
              0.4444444444444444,
              "#bd3786"
             ],
             [
              0.5555555555555556,
              "#d8576b"
             ],
             [
              0.6666666666666666,
              "#ed7953"
             ],
             [
              0.7777777777777778,
              "#fb9f3a"
             ],
             [
              0.8888888888888888,
              "#fdca26"
             ],
             [
              1,
              "#f0f921"
             ]
            ],
            "type": "heatmap"
           }
          ],
          "heatmapgl": [
           {
            "colorbar": {
             "outlinewidth": 0,
             "ticks": ""
            },
            "colorscale": [
             [
              0,
              "#0d0887"
             ],
             [
              0.1111111111111111,
              "#46039f"
             ],
             [
              0.2222222222222222,
              "#7201a8"
             ],
             [
              0.3333333333333333,
              "#9c179e"
             ],
             [
              0.4444444444444444,
              "#bd3786"
             ],
             [
              0.5555555555555556,
              "#d8576b"
             ],
             [
              0.6666666666666666,
              "#ed7953"
             ],
             [
              0.7777777777777778,
              "#fb9f3a"
             ],
             [
              0.8888888888888888,
              "#fdca26"
             ],
             [
              1,
              "#f0f921"
             ]
            ],
            "type": "heatmapgl"
           }
          ],
          "histogram": [
           {
            "marker": {
             "pattern": {
              "fillmode": "overlay",
              "size": 10,
              "solidity": 0.2
             }
            },
            "type": "histogram"
           }
          ],
          "histogram2d": [
           {
            "colorbar": {
             "outlinewidth": 0,
             "ticks": ""
            },
            "colorscale": [
             [
              0,
              "#0d0887"
             ],
             [
              0.1111111111111111,
              "#46039f"
             ],
             [
              0.2222222222222222,
              "#7201a8"
             ],
             [
              0.3333333333333333,
              "#9c179e"
             ],
             [
              0.4444444444444444,
              "#bd3786"
             ],
             [
              0.5555555555555556,
              "#d8576b"
             ],
             [
              0.6666666666666666,
              "#ed7953"
             ],
             [
              0.7777777777777778,
              "#fb9f3a"
             ],
             [
              0.8888888888888888,
              "#fdca26"
             ],
             [
              1,
              "#f0f921"
             ]
            ],
            "type": "histogram2d"
           }
          ],
          "histogram2dcontour": [
           {
            "colorbar": {
             "outlinewidth": 0,
             "ticks": ""
            },
            "colorscale": [
             [
              0,
              "#0d0887"
             ],
             [
              0.1111111111111111,
              "#46039f"
             ],
             [
              0.2222222222222222,
              "#7201a8"
             ],
             [
              0.3333333333333333,
              "#9c179e"
             ],
             [
              0.4444444444444444,
              "#bd3786"
             ],
             [
              0.5555555555555556,
              "#d8576b"
             ],
             [
              0.6666666666666666,
              "#ed7953"
             ],
             [
              0.7777777777777778,
              "#fb9f3a"
             ],
             [
              0.8888888888888888,
              "#fdca26"
             ],
             [
              1,
              "#f0f921"
             ]
            ],
            "type": "histogram2dcontour"
           }
          ],
          "mesh3d": [
           {
            "colorbar": {
             "outlinewidth": 0,
             "ticks": ""
            },
            "type": "mesh3d"
           }
          ],
          "parcoords": [
           {
            "line": {
             "colorbar": {
              "outlinewidth": 0,
              "ticks": ""
             }
            },
            "type": "parcoords"
           }
          ],
          "pie": [
           {
            "automargin": true,
            "type": "pie"
           }
          ],
          "scatter": [
           {
            "fillpattern": {
             "fillmode": "overlay",
             "size": 10,
             "solidity": 0.2
            },
            "type": "scatter"
           }
          ],
          "scatter3d": [
           {
            "line": {
             "colorbar": {
              "outlinewidth": 0,
              "ticks": ""
             }
            },
            "marker": {
             "colorbar": {
              "outlinewidth": 0,
              "ticks": ""
             }
            },
            "type": "scatter3d"
           }
          ],
          "scattercarpet": [
           {
            "marker": {
             "colorbar": {
              "outlinewidth": 0,
              "ticks": ""
             }
            },
            "type": "scattercarpet"
           }
          ],
          "scattergeo": [
           {
            "marker": {
             "colorbar": {
              "outlinewidth": 0,
              "ticks": ""
             }
            },
            "type": "scattergeo"
           }
          ],
          "scattergl": [
           {
            "marker": {
             "colorbar": {
              "outlinewidth": 0,
              "ticks": ""
             }
            },
            "type": "scattergl"
           }
          ],
          "scattermapbox": [
           {
            "marker": {
             "colorbar": {
              "outlinewidth": 0,
              "ticks": ""
             }
            },
            "type": "scattermapbox"
           }
          ],
          "scatterpolar": [
           {
            "marker": {
             "colorbar": {
              "outlinewidth": 0,
              "ticks": ""
             }
            },
            "type": "scatterpolar"
           }
          ],
          "scatterpolargl": [
           {
            "marker": {
             "colorbar": {
              "outlinewidth": 0,
              "ticks": ""
             }
            },
            "type": "scatterpolargl"
           }
          ],
          "scatterternary": [
           {
            "marker": {
             "colorbar": {
              "outlinewidth": 0,
              "ticks": ""
             }
            },
            "type": "scatterternary"
           }
          ],
          "surface": [
           {
            "colorbar": {
             "outlinewidth": 0,
             "ticks": ""
            },
            "colorscale": [
             [
              0,
              "#0d0887"
             ],
             [
              0.1111111111111111,
              "#46039f"
             ],
             [
              0.2222222222222222,
              "#7201a8"
             ],
             [
              0.3333333333333333,
              "#9c179e"
             ],
             [
              0.4444444444444444,
              "#bd3786"
             ],
             [
              0.5555555555555556,
              "#d8576b"
             ],
             [
              0.6666666666666666,
              "#ed7953"
             ],
             [
              0.7777777777777778,
              "#fb9f3a"
             ],
             [
              0.8888888888888888,
              "#fdca26"
             ],
             [
              1,
              "#f0f921"
             ]
            ],
            "type": "surface"
           }
          ],
          "table": [
           {
            "cells": {
             "fill": {
              "color": "#EBF0F8"
             },
             "line": {
              "color": "white"
             }
            },
            "header": {
             "fill": {
              "color": "#C8D4E3"
             },
             "line": {
              "color": "white"
             }
            },
            "type": "table"
           }
          ]
         },
         "layout": {
          "annotationdefaults": {
           "arrowcolor": "#2a3f5f",
           "arrowhead": 0,
           "arrowwidth": 1
          },
          "autotypenumbers": "strict",
          "coloraxis": {
           "colorbar": {
            "outlinewidth": 0,
            "ticks": ""
           }
          },
          "colorscale": {
           "diverging": [
            [
             0,
             "#8e0152"
            ],
            [
             0.1,
             "#c51b7d"
            ],
            [
             0.2,
             "#de77ae"
            ],
            [
             0.3,
             "#f1b6da"
            ],
            [
             0.4,
             "#fde0ef"
            ],
            [
             0.5,
             "#f7f7f7"
            ],
            [
             0.6,
             "#e6f5d0"
            ],
            [
             0.7,
             "#b8e186"
            ],
            [
             0.8,
             "#7fbc41"
            ],
            [
             0.9,
             "#4d9221"
            ],
            [
             1,
             "#276419"
            ]
           ],
           "sequential": [
            [
             0,
             "#0d0887"
            ],
            [
             0.1111111111111111,
             "#46039f"
            ],
            [
             0.2222222222222222,
             "#7201a8"
            ],
            [
             0.3333333333333333,
             "#9c179e"
            ],
            [
             0.4444444444444444,
             "#bd3786"
            ],
            [
             0.5555555555555556,
             "#d8576b"
            ],
            [
             0.6666666666666666,
             "#ed7953"
            ],
            [
             0.7777777777777778,
             "#fb9f3a"
            ],
            [
             0.8888888888888888,
             "#fdca26"
            ],
            [
             1,
             "#f0f921"
            ]
           ],
           "sequentialminus": [
            [
             0,
             "#0d0887"
            ],
            [
             0.1111111111111111,
             "#46039f"
            ],
            [
             0.2222222222222222,
             "#7201a8"
            ],
            [
             0.3333333333333333,
             "#9c179e"
            ],
            [
             0.4444444444444444,
             "#bd3786"
            ],
            [
             0.5555555555555556,
             "#d8576b"
            ],
            [
             0.6666666666666666,
             "#ed7953"
            ],
            [
             0.7777777777777778,
             "#fb9f3a"
            ],
            [
             0.8888888888888888,
             "#fdca26"
            ],
            [
             1,
             "#f0f921"
            ]
           ]
          },
          "colorway": [
           "#636efa",
           "#EF553B",
           "#00cc96",
           "#ab63fa",
           "#FFA15A",
           "#19d3f3",
           "#FF6692",
           "#B6E880",
           "#FF97FF",
           "#FECB52"
          ],
          "font": {
           "color": "#2a3f5f"
          },
          "geo": {
           "bgcolor": "white",
           "lakecolor": "white",
           "landcolor": "#E5ECF6",
           "showlakes": true,
           "showland": true,
           "subunitcolor": "white"
          },
          "hoverlabel": {
           "align": "left"
          },
          "hovermode": "closest",
          "mapbox": {
           "style": "light"
          },
          "paper_bgcolor": "white",
          "plot_bgcolor": "#E5ECF6",
          "polar": {
           "angularaxis": {
            "gridcolor": "white",
            "linecolor": "white",
            "ticks": ""
           },
           "bgcolor": "#E5ECF6",
           "radialaxis": {
            "gridcolor": "white",
            "linecolor": "white",
            "ticks": ""
           }
          },
          "scene": {
           "xaxis": {
            "backgroundcolor": "#E5ECF6",
            "gridcolor": "white",
            "gridwidth": 2,
            "linecolor": "white",
            "showbackground": true,
            "ticks": "",
            "zerolinecolor": "white"
           },
           "yaxis": {
            "backgroundcolor": "#E5ECF6",
            "gridcolor": "white",
            "gridwidth": 2,
            "linecolor": "white",
            "showbackground": true,
            "ticks": "",
            "zerolinecolor": "white"
           },
           "zaxis": {
            "backgroundcolor": "#E5ECF6",
            "gridcolor": "white",
            "gridwidth": 2,
            "linecolor": "white",
            "showbackground": true,
            "ticks": "",
            "zerolinecolor": "white"
           }
          },
          "shapedefaults": {
           "line": {
            "color": "#2a3f5f"
           }
          },
          "ternary": {
           "aaxis": {
            "gridcolor": "white",
            "linecolor": "white",
            "ticks": ""
           },
           "baxis": {
            "gridcolor": "white",
            "linecolor": "white",
            "ticks": ""
           },
           "bgcolor": "#E5ECF6",
           "caxis": {
            "gridcolor": "white",
            "linecolor": "white",
            "ticks": ""
           }
          },
          "title": {
           "x": 0.05
          },
          "xaxis": {
           "automargin": true,
           "gridcolor": "white",
           "linecolor": "white",
           "ticks": "",
           "title": {
            "standoff": 15
           },
           "zerolinecolor": "white",
           "zerolinewidth": 2
          },
          "yaxis": {
           "automargin": true,
           "gridcolor": "white",
           "linecolor": "white",
           "ticks": "",
           "title": {
            "standoff": 15
           },
           "zerolinecolor": "white",
           "zerolinewidth": 2
          }
         }
        },
        "title": {
         "text": "Day Frequency Distribution (Sorted by Frequency)"
        },
        "xaxis": {
         "anchor": "y",
         "domain": [
          0,
          1
         ],
         "title": {
          "text": "Day"
         },
         "type": "category"
        },
        "yaxis": {
         "anchor": "x",
         "domain": [
          0,
          1
         ],
         "title": {
          "text": "Frequency Count"
         }
        }
       }
      }
     },
     "metadata": {},
     "output_type": "display_data"
    }
   ],
   "source": [
    "# Perform frequency count of days\n",
    "days_counts = df_merged['Day'].value_counts().reset_index()\n",
    "days_counts.columns = ['Day', 'Frequency']\n",
    "\n",
    "# Create Plotly bar chart for day frequency distribution\n",
    "fig = px.bar(days_counts, x='Day', y='Frequency', labels={'Day': 'Day', 'Frequency': 'Frequency Count'})\n",
    "fig.update_xaxes(type='category')  \n",
    "fig.update_layout(title='Day Frequency Distribution (Sorted by Frequency)')\n",
    "fig.show()"
   ]
  },
  {
   "cell_type": "code",
   "execution_count": null,
   "metadata": {},
   "outputs": [],
   "source": [
    "df_merged.to_csv('../data/processed/uber-data-merged.csv', index=False)"
   ]
  },
  {
   "cell_type": "code",
   "execution_count": null,
   "metadata": {},
   "outputs": [],
   "source": [
    "clean_df = pd.read_csv('../data/processed/uber-data-merged.csv')"
   ]
  }
 ],
 "metadata": {
  "kernelspec": {
   "display_name": "Python 3",
   "language": "python",
   "name": "python3"
  },
  "language_info": {
   "codemirror_mode": {
    "name": "ipython",
    "version": 3
   },
   "file_extension": ".py",
   "mimetype": "text/x-python",
   "name": "python",
   "nbconvert_exporter": "python",
   "pygments_lexer": "ipython3",
   "version": "3.11.3"
  }
 },
 "nbformat": 4,
 "nbformat_minor": 2
}
